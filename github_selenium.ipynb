{
 "cells": [
  {
   "cell_type": "code",
   "execution_count": 1,
   "id": "f0d36bc2",
   "metadata": {},
   "outputs": [],
   "source": [
    "from selenium import webdriver"
   ]
  },
  {
   "cell_type": "code",
   "execution_count": 2,
   "id": "c3df318e",
   "metadata": {},
   "outputs": [],
   "source": [
    "browser = webdriver.Chrome('./chromedriver.exe')"
   ]
  },
  {
   "cell_type": "code",
   "execution_count": 3,
   "id": "9aea8886",
   "metadata": {},
   "outputs": [],
   "source": [
    "browser.get('https://github.com/login')"
   ]
  },
  {
   "cell_type": "markdown",
   "id": "2e54a866",
   "metadata": {},
   "source": [
    "id : input#login_field\n",
    "pw : input#password\n",
    "button : input[type=\"submit\"]"
   ]
  },
  {
   "cell_type": "code",
   "execution_count": null,
   "id": "f1d7b9b7",
   "metadata": {},
   "outputs": [],
   "source": [
    "import time\n",
    "time.sleep(7)\n",
    "# ID\n",
    "browser.find_elements_by_css_selector('input#login_field').send_key('imth19921@gmail.com')\n",
    "# PASSWORD\n",
    "browser.find_elements_by_css_selector('input#login_field').send_key('헐!')\n",
    "# SUMMIT (BUTTO_CLICK)\n",
    "\n"
   ]
  },
  {
   "cell_type": "code",
   "execution_count": null,
   "id": "fb60ffe3",
   "metadata": {},
   "outputs": [],
   "source": []
  },
  {
   "cell_type": "code",
   "execution_count": null,
   "id": "1ae73d6f",
   "metadata": {},
   "outputs": [],
   "source": []
  },
  {
   "cell_type": "code",
   "execution_count": null,
   "id": "bb0f9367",
   "metadata": {},
   "outputs": [],
   "source": []
  },
  {
   "cell_type": "code",
   "execution_count": null,
   "id": "d175e537",
   "metadata": {},
   "outputs": [],
   "source": []
  },
  {
   "cell_type": "code",
   "execution_count": null,
   "id": "80c10b8f",
   "metadata": {},
   "outputs": [],
   "source": []
  }
 ],
 "metadata": {
  "kernelspec": {
   "display_name": "Python 3",
   "language": "python",
   "name": "python3"
  },
  "language_info": {
   "codemirror_mode": {
    "name": "ipython",
    "version": 3
   },
   "file_extension": ".py",
   "mimetype": "text/x-python",
   "name": "python",
   "nbconvert_exporter": "python",
   "pygments_lexer": "ipython3",
   "version": "3.6.4"
  }
 },
 "nbformat": 4,
 "nbformat_minor": 5
}
