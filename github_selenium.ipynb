{
 "cells": [
  {
   "cell_type": "code",
   "execution_count": 1,
   "id": "7d7cf274",
   "metadata": {},
   "outputs": [],
   "source": [
    "from selenium import webdriver"
   ]
  },
  {
   "cell_type": "code",
   "execution_count": 2,
   "id": "92e7ac0d",
   "metadata": {},
   "outputs": [],
   "source": [
    "browser = webdriver.Chrome('./chromedriver.exe')"
   ]
  },
  {
   "cell_type": "code",
   "execution_count": 3,
   "id": "cc25195b",
   "metadata": {},
   "outputs": [],
   "source": [
    "browser.get('https://github.com/login')"
   ]
  },
  {
   "cell_type": "markdown",
   "id": "566e8871",
   "metadata": {},
   "source": [
    "id : input#login_field\n",
    "pw : input#password\n",
    "button : input[type=\"submit\"]"
   ]
  },
  {
   "cell_type": "code",
   "execution_count": null,
   "id": "ba4bff27",
   "metadata": {},
   "outputs": [],
   "source": [
    "import time\n",
    "time.sleep(7)\n",
    "# ID\n",
    "browser.find_elements_by_css_selector('input#login_field').send_key('imth19921@gmail.com')\n",
    "# PASSWORD\n",
    "browser.find_elements_by_css_selector('input#login_field').send_key('헐!')\n",
    "# SUMMIT (BUTTO_CLICK)\n",
    "\n"
   ]
  },
  {
   "cell_type": "code",
   "execution_count": null,
   "id": "52f62f17",
   "metadata": {},
   "outputs": [],
   "source": []
  },
  {
   "cell_type": "code",
   "execution_count": null,
   "id": "24250054",
   "metadata": {},
   "outputs": [],
   "source": []
  },
  {
   "cell_type": "code",
   "execution_count": null,
   "id": "800266f5",
   "metadata": {},
   "outputs": [],
   "source": []
  },
  {
   "cell_type": "code",
   "execution_count": null,
   "id": "9d145c48",
   "metadata": {},
   "outputs": [],
   "source": []
  },
  {
   "cell_type": "code",
   "execution_count": null,
   "id": "f99df7e9",
   "metadata": {},
   "outputs": [],
   "source": []
  }
 ],
 "metadata": {
  "kernelspec": {
   "display_name": "Python 3",
   "language": "python",
   "name": "python3"
  },
  "language_info": {
   "codemirror_mode": {
    "name": "ipython",
    "version": 3
   },
   "file_extension": ".py",
   "mimetype": "text/x-python",
   "name": "python",
   "nbconvert_exporter": "python",
   "pygments_lexer": "ipython3",
   "version": "3.6.4"
  }
 },
 "nbformat": 4,
 "nbformat_minor": 5
}
