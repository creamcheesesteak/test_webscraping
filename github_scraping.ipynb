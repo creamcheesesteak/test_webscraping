{
 "cells": [
  {
   "cell_type": "code",
   "execution_count": 1,
   "id": "dbabb740",
   "metadata": {},
   "outputs": [],
   "source": [
    "from selenium import webdriver"
   ]
  },
  {
   "cell_type": "code",
   "execution_count": 2,
   "id": "9daa3c1a",
   "metadata": {},
   "outputs": [],
   "source": [
    "browser = webdriver.Chrome('./chromedriver.exe')"
   ]
  },
  {
   "cell_type": "code",
   "execution_count": 3,
   "id": "9607283b",
   "metadata": {},
   "outputs": [],
   "source": [
    "browser.get('https://github.com/login')"
   ]
  },
  {
   "cell_type": "markdown",
   "id": "9af2c45e",
   "metadata": {},
   "source": [
    "input#login_field / input#password / input[type=\"submit\"] or input.btn"
   ]
  },
  {
   "cell_type": "code",
   "execution_count": 4,
   "id": "9917014b",
   "metadata": {},
   "outputs": [],
   "source": [
    "browser.find_elements_by_css_selector('input#login_field')[0].send_keys('imth19921@gmail.com')"
   ]
  },
  {
   "cell_type": "code",
   "execution_count": 5,
   "id": "c8475aad",
   "metadata": {},
   "outputs": [],
   "source": [
    "browser.find_elements_by_css_selector('input#password')[0].send_keys('guseo1205!')\n",
    "browser.find_elements_by_css_selector('input[type=\"submit\"]')[0].click()"
   ]
  },
  {
   "cell_type": "markdown",
   "id": "4e800612",
   "metadata": {},
   "source": [
    "브라우저의 내용은 맨 마지막에 접근된 값이 저장된다"
   ]
  },
  {
   "cell_type": "code",
   "execution_count": 6,
   "id": "77c0e5a2",
   "metadata": {},
   "outputs": [],
   "source": [
    "browser.get('https://github.com/creamcheesesteak/test_webscraping')"
   ]
  },
  {
   "cell_type": "code",
   "execution_count": 7,
   "id": "6daa2d94",
   "metadata": {},
   "outputs": [],
   "source": [
    "from bs4 import BeautifulSoup"
   ]
  },
  {
   "cell_type": "code",
   "execution_count": 8,
   "id": "ad10775f",
   "metadata": {},
   "outputs": [],
   "source": [
    "html = BeautifulSoup(browser.page_source, 'html.parser')"
   ]
  },
  {
   "cell_type": "code",
   "execution_count": 11,
   "id": "d7d34628",
   "metadata": {
    "collapsed": true
   },
   "outputs": [
    {
     "data": {
      "text/plain": [
       "[<div class=\"Box-row Box-row--focus-gray py-2 d-flex position-relative js-navigation-item\" role=\"row\">\n",
       " <div class=\"mr-3 flex-shrink-0\" role=\"gridcell\" style=\"width: 16px;\">\n",
       " <svg aria-hidden=\"true\" aria-label=\"Directory\" class=\"octicon octicon-file-directory hx_color-icon-directory\" data-view-component=\"true\" height=\"16\" version=\"1.1\" viewbox=\"0 0 16 16\" width=\"16\">\n",
       " <path d=\"M1.75 1A1.75 1.75 0 000 2.75v10.5C0 14.216.784 15 1.75 15h12.5A1.75 1.75 0 0016 13.25v-8.5A1.75 1.75 0 0014.25 3h-6.5a.25.25 0 01-.2-.1l-.9-1.2c-.33-.44-.85-.7-1.4-.7h-3.5z\" fill-rule=\"evenodd\"></path>\n",
       " </svg>\n",
       " </div>\n",
       " <div class=\"flex-auto min-width-0 col-md-2 mr-3\" role=\"rowheader\">\n",
       " <span class=\"css-truncate css-truncate-target d-block width-fit\"><a class=\"js-navigation-open Link--primary\" data-pjax=\"#repo-content-pjax-container\" href=\"/creamcheesesteak/test_webscraping/tree/master/.idea\" title=\".idea\">.idea</a></span>\n",
       " </div>\n",
       " <div class=\"flex-auto min-width-0 d-none d-md-block col-5 mr-3\" role=\"gridcell\">\n",
       " <span class=\"css-truncate css-truncate-target d-block width-fit markdown-title\">\n",
       " <a class=\"Link--secondary\" data-pjax=\"true\" href=\"/creamcheesesteak/test_webscraping/commit/624f99c9918fd84dde77583c53d21e8639f9ac15\" title=\"2021-6-21 last commit of this lecture with beautifuls\">2021-6-21 last commit of this lecture with beautifuls</a>\n",
       " </span>\n",
       " </div>\n",
       " <div class=\"color-text-tertiary text-right\" role=\"gridcell\" style=\"width:100px;\">\n",
       " <time-ago class=\"no-wrap\" data-view-component=\"true\" datetime=\"2021-06-24T09:01:05Z\" title=\"2021년 6월 24일 오후 6:01 GMT+9\">5 days ago</time-ago>\n",
       " </div>\n",
       " </div>,\n",
       " <div class=\"Box-row Box-row--focus-gray py-2 d-flex position-relative js-navigation-item\" role=\"row\">\n",
       " <div class=\"mr-3 flex-shrink-0\" role=\"gridcell\" style=\"width: 16px;\">\n",
       " <svg aria-hidden=\"true\" aria-label=\"Directory\" class=\"octicon octicon-file-directory hx_color-icon-directory\" data-view-component=\"true\" height=\"16\" version=\"1.1\" viewbox=\"0 0 16 16\" width=\"16\">\n",
       " <path d=\"M1.75 1A1.75 1.75 0 000 2.75v10.5C0 14.216.784 15 1.75 15h12.5A1.75 1.75 0 0016 13.25v-8.5A1.75 1.75 0 0014.25 3h-6.5a.25.25 0 01-.2-.1l-.9-1.2c-.33-.44-.85-.7-1.4-.7h-3.5z\" fill-rule=\"evenodd\"></path>\n",
       " </svg>\n",
       " </div>\n",
       " <div class=\"flex-auto min-width-0 col-md-2 mr-3\" role=\"rowheader\">\n",
       " <span class=\"css-truncate css-truncate-target d-block width-fit\"><a class=\"js-navigation-open Link--primary\" data-pjax=\"#repo-content-pjax-container\" href=\"/creamcheesesteak/test_webscraping/tree/master/files\" title=\"files\">files</a></span>\n",
       " </div>\n",
       " <div class=\"flex-auto min-width-0 d-none d-md-block col-5 mr-3\" role=\"gridcell\">\n",
       " <span class=\"css-truncate css-truncate-target d-block width-fit markdown-title\">\n",
       " <a class=\"Link--secondary\" data-pjax=\"true\" href=\"/creamcheesesteak/test_webscraping/commit/624f99c9918fd84dde77583c53d21e8639f9ac15\" title=\"2021-6-21 last commit of this lecture with beautifuls\">2021-6-21 last commit of this lecture with beautifuls</a>\n",
       " </span>\n",
       " </div>\n",
       " <div class=\"color-text-tertiary text-right\" role=\"gridcell\" style=\"width:100px;\">\n",
       " <time-ago class=\"no-wrap\" data-view-component=\"true\" datetime=\"2021-06-24T09:01:05Z\" title=\"2021년 6월 24일 오후 6:01 GMT+9\">5 days ago</time-ago>\n",
       " </div>\n",
       " </div>,\n",
       " <div class=\"Box-row Box-row--focus-gray py-2 d-flex position-relative js-navigation-item\" role=\"row\">\n",
       " <div class=\"mr-3 flex-shrink-0\" role=\"gridcell\" style=\"width: 16px;\">\n",
       " <svg aria-hidden=\"true\" aria-label=\"Directory\" class=\"octicon octicon-file-directory hx_color-icon-directory\" data-view-component=\"true\" height=\"16\" version=\"1.1\" viewbox=\"0 0 16 16\" width=\"16\">\n",
       " <path d=\"M1.75 1A1.75 1.75 0 000 2.75v10.5C0 14.216.784 15 1.75 15h12.5A1.75 1.75 0 0016 13.25v-8.5A1.75 1.75 0 0014.25 3h-6.5a.25.25 0 01-.2-.1l-.9-1.2c-.33-.44-.85-.7-1.4-.7h-3.5z\" fill-rule=\"evenodd\"></path>\n",
       " </svg>\n",
       " </div>\n",
       " <div class=\"flex-auto min-width-0 col-md-2 mr-3\" role=\"rowheader\">\n",
       " <span class=\"css-truncate css-truncate-target d-block width-fit\"><a class=\"js-navigation-open Link--primary\" data-pjax=\"#repo-content-pjax-container\" href=\"/creamcheesesteak/test_webscraping/tree/master/saves\" title=\"saves\">saves</a></span>\n",
       " </div>\n",
       " <div class=\"flex-auto min-width-0 d-none d-md-block col-5 mr-3\" role=\"gridcell\">\n",
       " <span class=\"css-truncate css-truncate-target d-block width-fit markdown-title\">\n",
       " <a class=\"Link--secondary\" data-pjax=\"true\" href=\"/creamcheesesteak/test_webscraping/commit/0f019506dea5c511ab6ef4832179474e1a38967a\" title=\"learn_selenium : practice_complete\">learn_selenium : practice_complete</a>\n",
       " </span>\n",
       " </div>\n",
       " <div class=\"color-text-tertiary text-right\" role=\"gridcell\" style=\"width:100px;\">\n",
       " <time-ago class=\"no-wrap\" data-view-component=\"true\" datetime=\"2021-06-25T07:39:08Z\" title=\"2021년 6월 25일 오후 4:39 GMT+9\">4 days ago</time-ago>\n",
       " </div>\n",
       " </div>,\n",
       " <div class=\"Box-row Box-row--focus-gray py-2 d-flex position-relative js-navigation-item\" role=\"row\">\n",
       " <div class=\"mr-3 flex-shrink-0\" role=\"gridcell\" style=\"width: 16px;\">\n",
       " <svg aria-hidden=\"true\" aria-label=\"File\" class=\"octicon octicon-file color-icon-tertiary\" data-view-component=\"true\" height=\"16\" version=\"1.1\" viewbox=\"0 0 16 16\" width=\"16\">\n",
       " <path d=\"M3.75 1.5a.25.25 0 00-.25.25v11.5c0 .138.112.25.25.25h8.5a.25.25 0 00.25-.25V6H9.75A1.75 1.75 0 018 4.25V1.5H3.75zm5.75.56v2.19c0 .138.112.25.25.25h2.19L9.5 2.06zM2 1.75C2 .784 2.784 0 3.75 0h5.086c.464 0 .909.184 1.237.513l3.414 3.414c.329.328.513.773.513 1.237v8.086A1.75 1.75 0 0112.25 15h-8.5A1.75 1.75 0 012 13.25V1.75z\" fill-rule=\"evenodd\"></path>\n",
       " </svg>\n",
       " </div>\n",
       " <div class=\"flex-auto min-width-0 col-md-2 mr-3\" role=\"rowheader\">\n",
       " <span class=\"css-truncate css-truncate-target d-block width-fit\"><a class=\"js-navigation-open Link--primary\" data-pjax=\"#repo-content-pjax-container\" href=\"/creamcheesesteak/test_webscraping/blob/master/.gitignore\" title=\".gitignore\">.gitignore</a></span>\n",
       " </div>\n",
       " <div class=\"flex-auto min-width-0 d-none d-md-block col-5 mr-3\" role=\"gridcell\">\n",
       " <span class=\"css-truncate css-truncate-target d-block width-fit markdown-title\">\n",
       " <a class=\"Link--secondary\" data-pjax=\"true\" href=\"/creamcheesesteak/test_webscraping/commit/230b365af9c855fe0b6d348bf272f6b62c2b2ab3\" title=\"Initial commit\">Initial commit</a>\n",
       " </span>\n",
       " </div>\n",
       " <div class=\"color-text-tertiary text-right\" role=\"gridcell\" style=\"width:100px;\">\n",
       " <time-ago class=\"no-wrap\" data-view-component=\"true\" datetime=\"2021-06-24T01:47:15Z\" title=\"2021년 6월 24일 오전 10:47 GMT+9\">5 days ago</time-ago>\n",
       " </div>\n",
       " </div>,\n",
       " <div class=\"Box-row Box-row--focus-gray py-2 d-flex position-relative js-navigation-item\" role=\"row\">\n",
       " <div class=\"mr-3 flex-shrink-0\" role=\"gridcell\" style=\"width: 16px;\">\n",
       " <svg aria-hidden=\"true\" aria-label=\"File\" class=\"octicon octicon-file color-icon-tertiary\" data-view-component=\"true\" height=\"16\" version=\"1.1\" viewbox=\"0 0 16 16\" width=\"16\">\n",
       " <path d=\"M3.75 1.5a.25.25 0 00-.25.25v11.5c0 .138.112.25.25.25h8.5a.25.25 0 00.25-.25V6H9.75A1.75 1.75 0 018 4.25V1.5H3.75zm5.75.56v2.19c0 .138.112.25.25.25h2.19L9.5 2.06zM2 1.75C2 .784 2.784 0 3.75 0h5.086c.464 0 .909.184 1.237.513l3.414 3.414c.329.328.513.773.513 1.237v8.086A1.75 1.75 0 0112.25 15h-8.5A1.75 1.75 0 012 13.25V1.75z\" fill-rule=\"evenodd\"></path>\n",
       " </svg>\n",
       " </div>\n",
       " <div class=\"flex-auto min-width-0 col-md-2 mr-3\" role=\"rowheader\">\n",
       " <span class=\"css-truncate css-truncate-target d-block width-fit\"><a class=\"js-navigation-open Link--primary\" data-pjax=\"#repo-content-pjax-container\" href=\"/creamcheesesteak/test_webscraping/blob/master/LICENSE\" itemprop=\"license\" title=\"LICENSE\">LICENSE</a></span>\n",
       " </div>\n",
       " <div class=\"flex-auto min-width-0 d-none d-md-block col-5 mr-3\" role=\"gridcell\">\n",
       " <span class=\"css-truncate css-truncate-target d-block width-fit markdown-title\">\n",
       " <a class=\"Link--secondary\" data-pjax=\"true\" href=\"/creamcheesesteak/test_webscraping/commit/230b365af9c855fe0b6d348bf272f6b62c2b2ab3\" title=\"Initial commit\">Initial commit</a>\n",
       " </span>\n",
       " </div>\n",
       " <div class=\"color-text-tertiary text-right\" role=\"gridcell\" style=\"width:100px;\">\n",
       " <time-ago class=\"no-wrap\" data-view-component=\"true\" datetime=\"2021-06-24T01:47:15Z\" title=\"2021년 6월 24일 오전 10:47 GMT+9\">5 days ago</time-ago>\n",
       " </div>\n",
       " </div>,\n",
       " <div class=\"Box-row Box-row--focus-gray py-2 d-flex position-relative js-navigation-item\" role=\"row\">\n",
       " <div class=\"mr-3 flex-shrink-0\" role=\"gridcell\" style=\"width: 16px;\">\n",
       " <svg aria-hidden=\"true\" aria-label=\"File\" class=\"octicon octicon-file color-icon-tertiary\" data-view-component=\"true\" height=\"16\" version=\"1.1\" viewbox=\"0 0 16 16\" width=\"16\">\n",
       " <path d=\"M3.75 1.5a.25.25 0 00-.25.25v11.5c0 .138.112.25.25.25h8.5a.25.25 0 00.25-.25V6H9.75A1.75 1.75 0 018 4.25V1.5H3.75zm5.75.56v2.19c0 .138.112.25.25.25h2.19L9.5 2.06zM2 1.75C2 .784 2.784 0 3.75 0h5.086c.464 0 .909.184 1.237.513l3.414 3.414c.329.328.513.773.513 1.237v8.086A1.75 1.75 0 0112.25 15h-8.5A1.75 1.75 0 012 13.25V1.75z\" fill-rule=\"evenodd\"></path>\n",
       " </svg>\n",
       " </div>\n",
       " <div class=\"flex-auto min-width-0 col-md-2 mr-3\" role=\"rowheader\">\n",
       " <span class=\"css-truncate css-truncate-target d-block width-fit\"><a class=\"js-navigation-open Link--primary\" data-pjax=\"#repo-content-pjax-container\" href=\"/creamcheesesteak/test_webscraping/blob/master/README.md\" title=\"README.md\">README.md</a></span>\n",
       " </div>\n",
       " <div class=\"flex-auto min-width-0 d-none d-md-block col-5 mr-3\" role=\"gridcell\">\n",
       " <span class=\"css-truncate css-truncate-target d-block width-fit markdown-title\">\n",
       " <a class=\"Link--secondary\" data-pjax=\"true\" href=\"/creamcheesesteak/test_webscraping/commit/230b365af9c855fe0b6d348bf272f6b62c2b2ab3\" title=\"Initial commit\">Initial commit</a>\n",
       " </span>\n",
       " </div>\n",
       " <div class=\"color-text-tertiary text-right\" role=\"gridcell\" style=\"width:100px;\">\n",
       " <time-ago class=\"no-wrap\" data-view-component=\"true\" datetime=\"2021-06-24T01:47:15Z\" title=\"2021년 6월 24일 오전 10:47 GMT+9\">5 days ago</time-ago>\n",
       " </div>\n",
       " </div>,\n",
       " <div class=\"Box-row Box-row--focus-gray py-2 d-flex position-relative js-navigation-item\" role=\"row\">\n",
       " <div class=\"mr-3 flex-shrink-0\" role=\"gridcell\" style=\"width: 16px;\">\n",
       " <svg aria-hidden=\"true\" aria-label=\"File\" class=\"octicon octicon-file color-icon-tertiary\" data-view-component=\"true\" height=\"16\" version=\"1.1\" viewbox=\"0 0 16 16\" width=\"16\">\n",
       " <path d=\"M3.75 1.5a.25.25 0 00-.25.25v11.5c0 .138.112.25.25.25h8.5a.25.25 0 00.25-.25V6H9.75A1.75 1.75 0 018 4.25V1.5H3.75zm5.75.56v2.19c0 .138.112.25.25.25h2.19L9.5 2.06zM2 1.75C2 .784 2.784 0 3.75 0h5.086c.464 0 .909.184 1.237.513l3.414 3.414c.329.328.513.773.513 1.237v8.086A1.75 1.75 0 0112.25 15h-8.5A1.75 1.75 0 012 13.25V1.75z\" fill-rule=\"evenodd\"></path>\n",
       " </svg>\n",
       " </div>\n",
       " <div class=\"flex-auto min-width-0 col-md-2 mr-3\" role=\"rowheader\">\n",
       " <span class=\"css-truncate css-truncate-target d-block width-fit\"><a class=\"js-navigation-open Link--primary\" data-pjax=\"#repo-content-pjax-container\" href=\"/creamcheesesteak/test_webscraping/blob/master/Untitled.ipynb\" title=\"Untitled.ipynb\">Untitled.ipynb</a></span>\n",
       " </div>\n",
       " <div class=\"flex-auto min-width-0 d-none d-md-block col-5 mr-3\" role=\"gridcell\">\n",
       " <span class=\"css-truncate css-truncate-target d-block width-fit markdown-title\">\n",
       " <a class=\"Link--secondary\" data-pjax=\"true\" href=\"/creamcheesesteak/test_webscraping/commit/624f99c9918fd84dde77583c53d21e8639f9ac15\" title=\"2021-6-21 last commit of this lecture with beautifuls\">2021-6-21 last commit of this lecture with beautifuls</a>\n",
       " </span>\n",
       " </div>\n",
       " <div class=\"color-text-tertiary text-right\" role=\"gridcell\" style=\"width:100px;\">\n",
       " <time-ago class=\"no-wrap\" data-view-component=\"true\" datetime=\"2021-06-24T09:01:05Z\" title=\"2021년 6월 24일 오후 6:01 GMT+9\">5 days ago</time-ago>\n",
       " </div>\n",
       " </div>,\n",
       " <div class=\"Box-row Box-row--focus-gray py-2 d-flex position-relative js-navigation-item\" role=\"row\">\n",
       " <div class=\"mr-3 flex-shrink-0\" role=\"gridcell\" style=\"width: 16px;\">\n",
       " <svg aria-hidden=\"true\" aria-label=\"File\" class=\"octicon octicon-file color-icon-tertiary\" data-view-component=\"true\" height=\"16\" version=\"1.1\" viewbox=\"0 0 16 16\" width=\"16\">\n",
       " <path d=\"M3.75 1.5a.25.25 0 00-.25.25v11.5c0 .138.112.25.25.25h8.5a.25.25 0 00.25-.25V6H9.75A1.75 1.75 0 018 4.25V1.5H3.75zm5.75.56v2.19c0 .138.112.25.25.25h2.19L9.5 2.06zM2 1.75C2 .784 2.784 0 3.75 0h5.086c.464 0 .909.184 1.237.513l3.414 3.414c.329.328.513.773.513 1.237v8.086A1.75 1.75 0 0112.25 15h-8.5A1.75 1.75 0 012 13.25V1.75z\" fill-rule=\"evenodd\"></path>\n",
       " </svg>\n",
       " </div>\n",
       " <div class=\"flex-auto min-width-0 col-md-2 mr-3\" role=\"rowheader\">\n",
       " <span class=\"css-truncate css-truncate-target d-block width-fit\"><a class=\"js-navigation-open Link--primary\" data-pjax=\"#repo-content-pjax-container\" href=\"/creamcheesesteak/test_webscraping/blob/master/Untitled1.ipynb\" title=\"Untitled1.ipynb\">Untitled1.ipynb</a></span>\n",
       " </div>\n",
       " <div class=\"flex-auto min-width-0 d-none d-md-block col-5 mr-3\" role=\"gridcell\">\n",
       " <span class=\"css-truncate css-truncate-target d-block width-fit markdown-title\">\n",
       " <a class=\"Link--secondary\" data-pjax=\"true\" href=\"/creamcheesesteak/test_webscraping/commit/624f99c9918fd84dde77583c53d21e8639f9ac15\" title=\"2021-6-21 last commit of this lecture with beautifuls\">2021-6-21 last commit of this lecture with beautifuls</a>\n",
       " </span>\n",
       " </div>\n",
       " <div class=\"color-text-tertiary text-right\" role=\"gridcell\" style=\"width:100px;\">\n",
       " <time-ago class=\"no-wrap\" data-view-component=\"true\" datetime=\"2021-06-24T09:01:05Z\" title=\"2021년 6월 24일 오후 6:01 GMT+9\">5 days ago</time-ago>\n",
       " </div>\n",
       " </div>,\n",
       " <div class=\"Box-row Box-row--focus-gray py-2 d-flex position-relative js-navigation-item\" role=\"row\">\n",
       " <div class=\"mr-3 flex-shrink-0\" role=\"gridcell\" style=\"width: 16px;\">\n",
       " <svg aria-hidden=\"true\" aria-label=\"File\" class=\"octicon octicon-file color-icon-tertiary\" data-view-component=\"true\" height=\"16\" version=\"1.1\" viewbox=\"0 0 16 16\" width=\"16\">\n",
       " <path d=\"M3.75 1.5a.25.25 0 00-.25.25v11.5c0 .138.112.25.25.25h8.5a.25.25 0 00.25-.25V6H9.75A1.75 1.75 0 018 4.25V1.5H3.75zm5.75.56v2.19c0 .138.112.25.25.25h2.19L9.5 2.06zM2 1.75C2 .784 2.784 0 3.75 0h5.086c.464 0 .909.184 1.237.513l3.414 3.414c.329.328.513.773.513 1.237v8.086A1.75 1.75 0 0112.25 15h-8.5A1.75 1.75 0 012 13.25V1.75z\" fill-rule=\"evenodd\"></path>\n",
       " </svg>\n",
       " </div>\n",
       " <div class=\"flex-auto min-width-0 col-md-2 mr-3\" role=\"rowheader\">\n",
       " <span class=\"css-truncate css-truncate-target d-block width-fit\"><a class=\"js-navigation-open Link--primary\" data-pjax=\"#repo-content-pjax-container\" href=\"/creamcheesesteak/test_webscraping/blob/master/beautifulsoup_htmlload.ipynb\" title=\"beautifulsoup_htmlload.ipynb\">beautifulsoup_htmlload.ipynb</a></span>\n",
       " </div>\n",
       " <div class=\"flex-auto min-width-0 d-none d-md-block col-5 mr-3\" role=\"gridcell\">\n",
       " <span class=\"css-truncate css-truncate-target d-block width-fit markdown-title\">\n",
       " <a class=\"Link--secondary\" data-pjax=\"true\" href=\"/creamcheesesteak/test_webscraping/commit/0876c0bcf433ceac7a9d10cb851de0f5679736ec\" title=\"searching practice with beautifuls\">searching practice with beautifuls</a>\n",
       " </span>\n",
       " </div>\n",
       " <div class=\"color-text-tertiary text-right\" role=\"gridcell\" style=\"width:100px;\">\n",
       " <time-ago class=\"no-wrap\" data-view-component=\"true\" datetime=\"2021-06-24T07:02:54Z\" title=\"2021년 6월 24일 오후 4:02 GMT+9\">5 days ago</time-ago>\n",
       " </div>\n",
       " </div>,\n",
       " <div class=\"Box-row Box-row--focus-gray py-2 d-flex position-relative js-navigation-item\" role=\"row\">\n",
       " <div class=\"mr-3 flex-shrink-0\" role=\"gridcell\" style=\"width: 16px;\">\n",
       " <svg aria-hidden=\"true\" aria-label=\"File\" class=\"octicon octicon-file color-icon-tertiary\" data-view-component=\"true\" height=\"16\" version=\"1.1\" viewbox=\"0 0 16 16\" width=\"16\">\n",
       " <path d=\"M3.75 1.5a.25.25 0 00-.25.25v11.5c0 .138.112.25.25.25h8.5a.25.25 0 00.25-.25V6H9.75A1.75 1.75 0 018 4.25V1.5H3.75zm5.75.56v2.19c0 .138.112.25.25.25h2.19L9.5 2.06zM2 1.75C2 .784 2.784 0 3.75 0h5.086c.464 0 .909.184 1.237.513l3.414 3.414c.329.328.513.773.513 1.237v8.086A1.75 1.75 0 0112.25 15h-8.5A1.75 1.75 0 012 13.25V1.75z\" fill-rule=\"evenodd\"></path>\n",
       " </svg>\n",
       " </div>\n",
       " <div class=\"flex-auto min-width-0 col-md-2 mr-3\" role=\"rowheader\">\n",
       " <span class=\"css-truncate css-truncate-target d-block width-fit\"><a class=\"js-navigation-open Link--primary\" data-pjax=\"#repo-content-pjax-container\" href=\"/creamcheesesteak/test_webscraping/blob/master/bs_tags.ipynb\" title=\"bs_tags.ipynb\">bs_tags.ipynb</a></span>\n",
       " </div>\n",
       " <div class=\"flex-auto min-width-0 d-none d-md-block col-5 mr-3\" role=\"gridcell\">\n",
       " <span class=\"css-truncate css-truncate-target d-block width-fit markdown-title\">\n",
       " <a class=\"Link--secondary\" data-pjax=\"true\" href=\"/creamcheesesteak/test_webscraping/commit/624f99c9918fd84dde77583c53d21e8639f9ac15\" title=\"2021-6-21 last commit of this lecture with beautifuls\">2021-6-21 last commit of this lecture with beautifuls</a>\n",
       " </span>\n",
       " </div>\n",
       " <div class=\"color-text-tertiary text-right\" role=\"gridcell\" style=\"width:100px;\">\n",
       " <time-ago class=\"no-wrap\" data-view-component=\"true\" datetime=\"2021-06-24T09:01:05Z\" title=\"2021년 6월 24일 오후 6:01 GMT+9\">5 days ago</time-ago>\n",
       " </div>\n",
       " </div>,\n",
       " <div class=\"Box-row Box-row--focus-gray py-2 d-flex position-relative js-navigation-item\" role=\"row\">\n",
       " <div class=\"mr-3 flex-shrink-0\" role=\"gridcell\" style=\"width: 16px;\">\n",
       " <svg aria-hidden=\"true\" aria-label=\"File\" class=\"octicon octicon-file color-icon-tertiary\" data-view-component=\"true\" height=\"16\" version=\"1.1\" viewbox=\"0 0 16 16\" width=\"16\">\n",
       " <path d=\"M3.75 1.5a.25.25 0 00-.25.25v11.5c0 .138.112.25.25.25h8.5a.25.25 0 00.25-.25V6H9.75A1.75 1.75 0 018 4.25V1.5H3.75zm5.75.56v2.19c0 .138.112.25.25.25h2.19L9.5 2.06zM2 1.75C2 .784 2.784 0 3.75 0h5.086c.464 0 .909.184 1.237.513l3.414 3.414c.329.328.513.773.513 1.237v8.086A1.75 1.75 0 0112.25 15h-8.5A1.75 1.75 0 012 13.25V1.75z\" fill-rule=\"evenodd\"></path>\n",
       " </svg>\n",
       " </div>\n",
       " <div class=\"flex-auto min-width-0 col-md-2 mr-3\" role=\"rowheader\">\n",
       " <span class=\"css-truncate css-truncate-target d-block width-fit\"><a class=\"js-navigation-open Link--primary\" data-pjax=\"#repo-content-pjax-container\" href=\"/creamcheesesteak/test_webscraping/blob/master/chromedriver.exe\" title=\"chromedriver.exe\">chromedriver.exe</a></span>\n",
       " </div>\n",
       " <div class=\"flex-auto min-width-0 d-none d-md-block col-5 mr-3\" role=\"gridcell\">\n",
       " <span class=\"css-truncate css-truncate-target d-block width-fit markdown-title\">\n",
       " <a class=\"Link--secondary\" data-pjax=\"true\" href=\"/creamcheesesteak/test_webscraping/commit/102f03dd9493ac74374be04c2856075824defcef\" title=\"learn_selenium\">learn_selenium</a>\n",
       " </span>\n",
       " </div>\n",
       " <div class=\"color-text-tertiary text-right\" role=\"gridcell\" style=\"width:100px;\">\n",
       " <time-ago class=\"no-wrap\" data-view-component=\"true\" datetime=\"2021-06-25T01:23:36Z\" title=\"2021년 6월 25일 오전 10:23 GMT+9\">4 days ago</time-ago>\n",
       " </div>\n",
       " </div>,\n",
       " <div class=\"Box-row Box-row--focus-gray py-2 d-flex position-relative js-navigation-item\" role=\"row\">\n",
       " <div class=\"mr-3 flex-shrink-0\" role=\"gridcell\" style=\"width: 16px;\">\n",
       " <svg aria-hidden=\"true\" aria-label=\"File\" class=\"octicon octicon-file color-icon-tertiary\" data-view-component=\"true\" height=\"16\" version=\"1.1\" viewbox=\"0 0 16 16\" width=\"16\">\n",
       " <path d=\"M3.75 1.5a.25.25 0 00-.25.25v11.5c0 .138.112.25.25.25h8.5a.25.25 0 00.25-.25V6H9.75A1.75 1.75 0 018 4.25V1.5H3.75zm5.75.56v2.19c0 .138.112.25.25.25h2.19L9.5 2.06zM2 1.75C2 .784 2.784 0 3.75 0h5.086c.464 0 .909.184 1.237.513l3.414 3.414c.329.328.513.773.513 1.237v8.086A1.75 1.75 0 0112.25 15h-8.5A1.75 1.75 0 012 13.25V1.75z\" fill-rule=\"evenodd\"></path>\n",
       " </svg>\n",
       " </div>\n",
       " <div class=\"flex-auto min-width-0 col-md-2 mr-3\" role=\"rowheader\">\n",
       " <span class=\"css-truncate css-truncate-target d-block width-fit\"><a class=\"js-navigation-open Link--primary\" data-pjax=\"#repo-content-pjax-container\" href=\"/creamcheesesteak/test_webscraping/blob/master/genie_scraping.ipynb\" title=\"genie_scraping.ipynb\">genie_scraping.ipynb</a></span>\n",
       " </div>\n",
       " <div class=\"flex-auto min-width-0 d-none d-md-block col-5 mr-3\" role=\"gridcell\">\n",
       " <span class=\"css-truncate css-truncate-target d-block width-fit markdown-title\">\n",
       " <a class=\"Link--secondary\" data-pjax=\"true\" href=\"/creamcheesesteak/test_webscraping/commit/0c81b75da30f7d260d170cc6b8eb09c56d8fadd6\" title=\"learn_selenium : end of morning class\">learn_selenium : end of morning class</a>\n",
       " </span>\n",
       " </div>\n",
       " <div class=\"color-text-tertiary text-right\" role=\"gridcell\" style=\"width:100px;\">\n",
       " <time-ago class=\"no-wrap\" data-view-component=\"true\" datetime=\"2021-06-25T02:54:48Z\" title=\"2021년 6월 25일 오전 11:54 GMT+9\">4 days ago</time-ago>\n",
       " </div>\n",
       " </div>,\n",
       " <div class=\"Box-row Box-row--focus-gray py-2 d-flex position-relative js-navigation-item\" role=\"row\">\n",
       " <div class=\"mr-3 flex-shrink-0\" role=\"gridcell\" style=\"width: 16px;\">\n",
       " <svg aria-hidden=\"true\" aria-label=\"File\" class=\"octicon octicon-file color-icon-tertiary\" data-view-component=\"true\" height=\"16\" version=\"1.1\" viewbox=\"0 0 16 16\" width=\"16\">\n",
       " <path d=\"M3.75 1.5a.25.25 0 00-.25.25v11.5c0 .138.112.25.25.25h8.5a.25.25 0 00.25-.25V6H9.75A1.75 1.75 0 018 4.25V1.5H3.75zm5.75.56v2.19c0 .138.112.25.25.25h2.19L9.5 2.06zM2 1.75C2 .784 2.784 0 3.75 0h5.086c.464 0 .909.184 1.237.513l3.414 3.414c.329.328.513.773.513 1.237v8.086A1.75 1.75 0 0112.25 15h-8.5A1.75 1.75 0 012 13.25V1.75z\" fill-rule=\"evenodd\"></path>\n",
       " </svg>\n",
       " </div>\n",
       " <div class=\"flex-auto min-width-0 col-md-2 mr-3\" role=\"rowheader\">\n",
       " <span class=\"css-truncate css-truncate-target d-block width-fit\"><a class=\"js-navigation-open Link--primary\" data-pjax=\"#repo-content-pjax-container\" href=\"/creamcheesesteak/test_webscraping/blob/master/github_selenium1.ipynb\" title=\"github_selenium1.ipynb\">github_selenium1.ipynb</a></span>\n",
       " </div>\n",
       " <div class=\"flex-auto min-width-0 d-none d-md-block col-5 mr-3\" role=\"gridcell\">\n",
       " <span class=\"css-truncate css-truncate-target d-block width-fit markdown-title\">\n",
       " <a class=\"Link--secondary\" data-pjax=\"true\" href=\"/creamcheesesteak/test_webscraping/commit/bc63b0a79aae9a3771222936389adf75db7c096d\" title=\"learn_selenium : 2021.6.25 LAST END\">learn_selenium : 2021.6.25 LAST END</a>\n",
       " </span>\n",
       " </div>\n",
       " <div class=\"color-text-tertiary text-right\" role=\"gridcell\" style=\"width:100px;\">\n",
       " <time-ago class=\"no-wrap\" data-view-component=\"true\" datetime=\"2021-06-25T09:08:46Z\" title=\"2021년 6월 25일 오후 6:08 GMT+9\">4 days ago</time-ago>\n",
       " </div>\n",
       " </div>,\n",
       " <div class=\"Box-row Box-row--focus-gray py-2 d-flex position-relative js-navigation-item\" role=\"row\">\n",
       " <div class=\"mr-3 flex-shrink-0\" role=\"gridcell\" style=\"width: 16px;\">\n",
       " <svg aria-hidden=\"true\" aria-label=\"File\" class=\"octicon octicon-file color-icon-tertiary\" data-view-component=\"true\" height=\"16\" version=\"1.1\" viewbox=\"0 0 16 16\" width=\"16\">\n",
       " <path d=\"M3.75 1.5a.25.25 0 00-.25.25v11.5c0 .138.112.25.25.25h8.5a.25.25 0 00.25-.25V6H9.75A1.75 1.75 0 018 4.25V1.5H3.75zm5.75.56v2.19c0 .138.112.25.25.25h2.19L9.5 2.06zM2 1.75C2 .784 2.784 0 3.75 0h5.086c.464 0 .909.184 1.237.513l3.414 3.414c.329.328.513.773.513 1.237v8.086A1.75 1.75 0 0112.25 15h-8.5A1.75 1.75 0 012 13.25V1.75z\" fill-rule=\"evenodd\"></path>\n",
       " </svg>\n",
       " </div>\n",
       " <div class=\"flex-auto min-width-0 col-md-2 mr-3\" role=\"rowheader\">\n",
       " <span class=\"css-truncate css-truncate-target d-block width-fit\"><a class=\"js-navigation-open Link--primary\" data-pjax=\"#repo-content-pjax-container\" href=\"/creamcheesesteak/test_webscraping/blob/master/interpark_selenium_practice.ipynb\" title=\"interpark_selenium_practice.ipynb\">interpark_selenium_practice.ipynb</a></span>\n",
       " </div>\n",
       " <div class=\"flex-auto min-width-0 d-none d-md-block col-5 mr-3\" role=\"gridcell\">\n",
       " <span class=\"css-truncate css-truncate-target d-block width-fit markdown-title\">\n",
       " <a class=\"Link--secondary\" data-pjax=\"true\" href=\"/creamcheesesteak/test_webscraping/commit/61c63482eb0465763f55cfa4262fd57048227e89\" title=\"learn_selenium : practice1 _ continue\">learn_selenium : practice1 _ continue</a>\n",
       " </span>\n",
       " </div>\n",
       " <div class=\"color-text-tertiary text-right\" role=\"gridcell\" style=\"width:100px;\">\n",
       " <time-ago class=\"no-wrap\" data-view-component=\"true\" datetime=\"2021-06-25T07:06:06Z\" title=\"2021년 6월 25일 오후 4:06 GMT+9\">4 days ago</time-ago>\n",
       " </div>\n",
       " </div>,\n",
       " <div class=\"Box-row Box-row--focus-gray py-2 d-flex position-relative js-navigation-item\" role=\"row\">\n",
       " <div class=\"mr-3 flex-shrink-0\" role=\"gridcell\" style=\"width: 16px;\">\n",
       " <svg aria-hidden=\"true\" aria-label=\"File\" class=\"octicon octicon-file color-icon-tertiary\" data-view-component=\"true\" height=\"16\" version=\"1.1\" viewbox=\"0 0 16 16\" width=\"16\">\n",
       " <path d=\"M3.75 1.5a.25.25 0 00-.25.25v11.5c0 .138.112.25.25.25h8.5a.25.25 0 00.25-.25V6H9.75A1.75 1.75 0 018 4.25V1.5H3.75zm5.75.56v2.19c0 .138.112.25.25.25h2.19L9.5 2.06zM2 1.75C2 .784 2.784 0 3.75 0h5.086c.464 0 .909.184 1.237.513l3.414 3.414c.329.328.513.773.513 1.237v8.086A1.75 1.75 0 0112.25 15h-8.5A1.75 1.75 0 012 13.25V1.75z\" fill-rule=\"evenodd\"></path>\n",
       " </svg>\n",
       " </div>\n",
       " <div class=\"flex-auto min-width-0 col-md-2 mr-3\" role=\"rowheader\">\n",
       " <span class=\"css-truncate css-truncate-target d-block width-fit\"><a class=\"js-navigation-open Link--primary\" data-pjax=\"#repo-content-pjax-container\" href=\"/creamcheesesteak/test_webscraping/blob/master/melon-scraping.ipynb\" title=\"melon-scraping.ipynb\">melon-scraping.ipynb</a></span>\n",
       " </div>\n",
       " <div class=\"flex-auto min-width-0 d-none d-md-block col-5 mr-3\" role=\"gridcell\">\n",
       " <span class=\"css-truncate css-truncate-target d-block width-fit markdown-title\">\n",
       " <a class=\"Link--secondary\" data-pjax=\"true\" href=\"/creamcheesesteak/test_webscraping/commit/0c81b75da30f7d260d170cc6b8eb09c56d8fadd6\" title=\"learn_selenium : end of morning class\">learn_selenium : end of morning class</a>\n",
       " </span>\n",
       " </div>\n",
       " <div class=\"color-text-tertiary text-right\" role=\"gridcell\" style=\"width:100px;\">\n",
       " <time-ago class=\"no-wrap\" data-view-component=\"true\" datetime=\"2021-06-25T02:54:48Z\" title=\"2021년 6월 25일 오전 11:54 GMT+9\">4 days ago</time-ago>\n",
       " </div>\n",
       " </div>,\n",
       " <div class=\"Box-row Box-row--focus-gray py-2 d-flex position-relative js-navigation-item\" role=\"row\">\n",
       " <div class=\"mr-3 flex-shrink-0\" role=\"gridcell\" style=\"width: 16px;\">\n",
       " <svg aria-hidden=\"true\" aria-label=\"File\" class=\"octicon octicon-file color-icon-tertiary\" data-view-component=\"true\" height=\"16\" version=\"1.1\" viewbox=\"0 0 16 16\" width=\"16\">\n",
       " <path d=\"M3.75 1.5a.25.25 0 00-.25.25v11.5c0 .138.112.25.25.25h8.5a.25.25 0 00.25-.25V6H9.75A1.75 1.75 0 018 4.25V1.5H3.75zm5.75.56v2.19c0 .138.112.25.25.25h2.19L9.5 2.06zM2 1.75C2 .784 2.784 0 3.75 0h5.086c.464 0 .909.184 1.237.513l3.414 3.414c.329.328.513.773.513 1.237v8.086A1.75 1.75 0 0112.25 15h-8.5A1.75 1.75 0 012 13.25V1.75z\" fill-rule=\"evenodd\"></path>\n",
       " </svg>\n",
       " </div>\n",
       " <div class=\"flex-auto min-width-0 col-md-2 mr-3\" role=\"rowheader\">\n",
       " <span class=\"css-truncate css-truncate-target d-block width-fit\"><a class=\"js-navigation-open Link--primary\" data-pjax=\"#repo-content-pjax-container\" href=\"/creamcheesesteak/test_webscraping/blob/master/new01.txt\" title=\"new01.txt\">new01.txt</a></span>\n",
       " </div>\n",
       " <div class=\"flex-auto min-width-0 d-none d-md-block col-5 mr-3\" role=\"gridcell\">\n",
       " <span class=\"css-truncate css-truncate-target d-block width-fit markdown-title\">\n",
       " <a class=\"Link--secondary\" data-pjax=\"true\" href=\"/creamcheesesteak/test_webscraping/commit/dc9d6aa5eec9989d255901599bb233f1a18453bd\" title=\"first commit\">first commit</a>\n",
       " </span>\n",
       " </div>\n",
       " <div class=\"color-text-tertiary text-right\" role=\"gridcell\" style=\"width:100px;\">\n",
       " <time-ago class=\"no-wrap\" data-view-component=\"true\" datetime=\"2021-06-24T02:36:36Z\" title=\"2021년 6월 24일 오전 11:36 GMT+9\">5 days ago</time-ago>\n",
       " </div>\n",
       " </div>,\n",
       " <div class=\"Box-row Box-row--focus-gray py-2 d-flex position-relative js-navigation-item\" role=\"row\">\n",
       " <div class=\"mr-3 flex-shrink-0\" role=\"gridcell\" style=\"width: 16px;\">\n",
       " <svg aria-hidden=\"true\" aria-label=\"File\" class=\"octicon octicon-file color-icon-tertiary\" data-view-component=\"true\" height=\"16\" version=\"1.1\" viewbox=\"0 0 16 16\" width=\"16\">\n",
       " <path d=\"M3.75 1.5a.25.25 0 00-.25.25v11.5c0 .138.112.25.25.25h8.5a.25.25 0 00.25-.25V6H9.75A1.75 1.75 0 018 4.25V1.5H3.75zm5.75.56v2.19c0 .138.112.25.25.25h2.19L9.5 2.06zM2 1.75C2 .784 2.784 0 3.75 0h5.086c.464 0 .909.184 1.237.513l3.414 3.414c.329.328.513.773.513 1.237v8.086A1.75 1.75 0 0112.25 15h-8.5A1.75 1.75 0 012 13.25V1.75z\" fill-rule=\"evenodd\"></path>\n",
       " </svg>\n",
       " </div>\n",
       " <div class=\"flex-auto min-width-0 col-md-2 mr-3\" role=\"rowheader\">\n",
       " <span class=\"css-truncate css-truncate-target d-block width-fit\"><a class=\"js-navigation-open Link--primary\" data-pjax=\"#repo-content-pjax-container\" href=\"/creamcheesesteak/test_webscraping/blob/master/new02.txt\" title=\"new02.txt\">new02.txt</a></span>\n",
       " </div>\n",
       " <div class=\"flex-auto min-width-0 d-none d-md-block col-5 mr-3\" role=\"gridcell\">\n",
       " <span class=\"css-truncate css-truncate-target d-block width-fit markdown-title\">\n",
       " <a class=\"Link--secondary\" data-pjax=\"true\" href=\"/creamcheesesteak/test_webscraping/commit/0add8e78097066a31a6bd56ed99c3df2634e47be\" title=\"first commit\">first commit</a>\n",
       " </span>\n",
       " </div>\n",
       " <div class=\"color-text-tertiary text-right\" role=\"gridcell\" style=\"width:100px;\">\n",
       " <time-ago class=\"no-wrap\" data-view-component=\"true\" datetime=\"2021-06-24T02:43:37Z\" title=\"2021년 6월 24일 오전 11:43 GMT+9\">5 days ago</time-ago>\n",
       " </div>\n",
       " </div>,\n",
       " <div class=\"Box-row Box-row--focus-gray py-2 d-flex position-relative js-navigation-item\" role=\"row\">\n",
       " <div class=\"mr-3 flex-shrink-0\" role=\"gridcell\" style=\"width: 16px;\">\n",
       " <svg aria-hidden=\"true\" aria-label=\"File\" class=\"octicon octicon-file color-icon-tertiary\" data-view-component=\"true\" height=\"16\" version=\"1.1\" viewbox=\"0 0 16 16\" width=\"16\">\n",
       " <path d=\"M3.75 1.5a.25.25 0 00-.25.25v11.5c0 .138.112.25.25.25h8.5a.25.25 0 00.25-.25V6H9.75A1.75 1.75 0 018 4.25V1.5H3.75zm5.75.56v2.19c0 .138.112.25.25.25h2.19L9.5 2.06zM2 1.75C2 .784 2.784 0 3.75 0h5.086c.464 0 .909.184 1.237.513l3.414 3.414c.329.328.513.773.513 1.237v8.086A1.75 1.75 0 0112.25 15h-8.5A1.75 1.75 0 012 13.25V1.75z\" fill-rule=\"evenodd\"></path>\n",
       " </svg>\n",
       " </div>\n",
       " <div class=\"flex-auto min-width-0 col-md-2 mr-3\" role=\"rowheader\">\n",
       " <span class=\"css-truncate css-truncate-target d-block width-fit\"><a class=\"js-navigation-open Link--primary\" data-pjax=\"#repo-content-pjax-container\" href=\"/creamcheesesteak/test_webscraping/blob/master/scraping_bs4_Daum.ipynb\" title=\"scraping_bs4_Daum.ipynb\">scraping_bs4_Daum.ipynb</a></span>\n",
       " </div>\n",
       " <div class=\"flex-auto min-width-0 d-none d-md-block col-5 mr-3\" role=\"gridcell\">\n",
       " <span class=\"css-truncate css-truncate-target d-block width-fit markdown-title\">\n",
       " <a class=\"Link--secondary\" data-pjax=\"true\" href=\"/creamcheesesteak/test_webscraping/commit/624f99c9918fd84dde77583c53d21e8639f9ac15\" title=\"2021-6-21 last commit of this lecture with beautifuls\">2021-6-21 last commit of this lecture with beautifuls</a>\n",
       " </span>\n",
       " </div>\n",
       " <div class=\"color-text-tertiary text-right\" role=\"gridcell\" style=\"width:100px;\">\n",
       " <time-ago class=\"no-wrap\" data-view-component=\"true\" datetime=\"2021-06-24T09:01:05Z\" title=\"2021년 6월 24일 오후 6:01 GMT+9\">5 days ago</time-ago>\n",
       " </div>\n",
       " </div>,\n",
       " <div class=\"Box-row Box-row--focus-gray py-2 d-flex position-relative js-navigation-item\" role=\"row\">\n",
       " <div class=\"mr-3 flex-shrink-0\" role=\"gridcell\" style=\"width: 16px;\">\n",
       " <svg aria-hidden=\"true\" aria-label=\"File\" class=\"octicon octicon-file color-icon-tertiary\" data-view-component=\"true\" height=\"16\" version=\"1.1\" viewbox=\"0 0 16 16\" width=\"16\">\n",
       " <path d=\"M3.75 1.5a.25.25 0 00-.25.25v11.5c0 .138.112.25.25.25h8.5a.25.25 0 00.25-.25V6H9.75A1.75 1.75 0 018 4.25V1.5H3.75zm5.75.56v2.19c0 .138.112.25.25.25h2.19L9.5 2.06zM2 1.75C2 .784 2.784 0 3.75 0h5.086c.464 0 .909.184 1.237.513l3.414 3.414c.329.328.513.773.513 1.237v8.086A1.75 1.75 0 0112.25 15h-8.5A1.75 1.75 0 012 13.25V1.75z\" fill-rule=\"evenodd\"></path>\n",
       " </svg>\n",
       " </div>\n",
       " <div class=\"flex-auto min-width-0 col-md-2 mr-3\" role=\"rowheader\">\n",
       " <span class=\"css-truncate css-truncate-target d-block width-fit\"><a class=\"js-navigation-open Link--primary\" data-pjax=\"#repo-content-pjax-container\" href=\"/creamcheesesteak/test_webscraping/blob/master/scraping_bs4_Daum2.ipynb\" title=\"scraping_bs4_Daum2.ipynb\">scraping_bs4_Daum2.ipynb</a></span>\n",
       " </div>\n",
       " <div class=\"flex-auto min-width-0 d-none d-md-block col-5 mr-3\" role=\"gridcell\">\n",
       " <span class=\"css-truncate css-truncate-target d-block width-fit markdown-title\">\n",
       " <a class=\"Link--secondary\" data-pjax=\"true\" href=\"/creamcheesesteak/test_webscraping/commit/624f99c9918fd84dde77583c53d21e8639f9ac15\" title=\"2021-6-21 last commit of this lecture with beautifuls\">2021-6-21 last commit of this lecture with beautifuls</a>\n",
       " </span>\n",
       " </div>\n",
       " <div class=\"color-text-tertiary text-right\" role=\"gridcell\" style=\"width:100px;\">\n",
       " <time-ago class=\"no-wrap\" data-view-component=\"true\" datetime=\"2021-06-24T09:01:05Z\" title=\"2021년 6월 24일 오후 6:01 GMT+9\">5 days ago</time-ago>\n",
       " </div>\n",
       " </div>,\n",
       " <div class=\"Box-row Box-row--focus-gray py-2 d-flex position-relative js-navigation-item\" role=\"row\">\n",
       " <div class=\"mr-3 flex-shrink-0\" role=\"gridcell\" style=\"width: 16px;\">\n",
       " <svg aria-hidden=\"true\" aria-label=\"File\" class=\"octicon octicon-file color-icon-tertiary\" data-view-component=\"true\" height=\"16\" version=\"1.1\" viewbox=\"0 0 16 16\" width=\"16\">\n",
       " <path d=\"M3.75 1.5a.25.25 0 00-.25.25v11.5c0 .138.112.25.25.25h8.5a.25.25 0 00.25-.25V6H9.75A1.75 1.75 0 018 4.25V1.5H3.75zm5.75.56v2.19c0 .138.112.25.25.25h2.19L9.5 2.06zM2 1.75C2 .784 2.784 0 3.75 0h5.086c.464 0 .909.184 1.237.513l3.414 3.414c.329.328.513.773.513 1.237v8.086A1.75 1.75 0 0112.25 15h-8.5A1.75 1.75 0 012 13.25V1.75z\" fill-rule=\"evenodd\"></path>\n",
       " </svg>\n",
       " </div>\n",
       " <div class=\"flex-auto min-width-0 col-md-2 mr-3\" role=\"rowheader\">\n",
       " <span class=\"css-truncate css-truncate-target d-block width-fit\"><a class=\"js-navigation-open Link--primary\" data-pjax=\"#repo-content-pjax-container\" href=\"/creamcheesesteak/test_webscraping/blob/master/selenium_load.ipynb\" title=\"selenium_load.ipynb\">selenium_load.ipynb</a></span>\n",
       " </div>\n",
       " <div class=\"flex-auto min-width-0 d-none d-md-block col-5 mr-3\" role=\"gridcell\">\n",
       " <span class=\"css-truncate css-truncate-target d-block width-fit markdown-title\">\n",
       " <a class=\"Link--secondary\" data-pjax=\"true\" href=\"/creamcheesesteak/test_webscraping/commit/102f03dd9493ac74374be04c2856075824defcef\" title=\"learn_selenium\">learn_selenium</a>\n",
       " </span>\n",
       " </div>\n",
       " <div class=\"color-text-tertiary text-right\" role=\"gridcell\" style=\"width:100px;\">\n",
       " <time-ago class=\"no-wrap\" data-view-component=\"true\" datetime=\"2021-06-25T01:23:36Z\" title=\"2021년 6월 25일 오전 10:23 GMT+9\">4 days ago</time-ago>\n",
       " </div>\n",
       " </div>,\n",
       " <div class=\"Box-row Box-row--focus-gray py-2 d-flex position-relative js-navigation-item\" role=\"row\">\n",
       " <div class=\"mr-3 flex-shrink-0\" role=\"gridcell\" style=\"width: 16px;\">\n",
       " <svg aria-hidden=\"true\" aria-label=\"File\" class=\"octicon octicon-file color-icon-tertiary\" data-view-component=\"true\" height=\"16\" version=\"1.1\" viewbox=\"0 0 16 16\" width=\"16\">\n",
       " <path d=\"M3.75 1.5a.25.25 0 00-.25.25v11.5c0 .138.112.25.25.25h8.5a.25.25 0 00.25-.25V6H9.75A1.75 1.75 0 018 4.25V1.5H3.75zm5.75.56v2.19c0 .138.112.25.25.25h2.19L9.5 2.06zM2 1.75C2 .784 2.784 0 3.75 0h5.086c.464 0 .909.184 1.237.513l3.414 3.414c.329.328.513.773.513 1.237v8.086A1.75 1.75 0 0112.25 15h-8.5A1.75 1.75 0 012 13.25V1.75z\" fill-rule=\"evenodd\"></path>\n",
       " </svg>\n",
       " </div>\n",
       " <div class=\"flex-auto min-width-0 col-md-2 mr-3\" role=\"rowheader\">\n",
       " <span class=\"css-truncate css-truncate-target d-block width-fit\"><a class=\"js-navigation-open Link--primary\" data-pjax=\"#repo-content-pjax-container\" href=\"/creamcheesesteak/test_webscraping/blob/master/starbucks_location1.ipynb\" title=\"starbucks_location1.ipynb\">starbucks_location1.ipynb</a></span>\n",
       " </div>\n",
       " <div class=\"flex-auto min-width-0 d-none d-md-block col-5 mr-3\" role=\"gridcell\">\n",
       " <span class=\"css-truncate css-truncate-target d-block width-fit markdown-title\">\n",
       " <a class=\"Link--secondary\" data-pjax=\"true\" href=\"/creamcheesesteak/test_webscraping/commit/bc63b0a79aae9a3771222936389adf75db7c096d\" title=\"learn_selenium : 2021.6.25 LAST END\">learn_selenium : 2021.6.25 LAST END</a>\n",
       " </span>\n",
       " </div>\n",
       " <div class=\"color-text-tertiary text-right\" role=\"gridcell\" style=\"width:100px;\">\n",
       " <time-ago class=\"no-wrap\" data-view-component=\"true\" datetime=\"2021-06-25T09:08:46Z\" title=\"2021년 6월 25일 오후 6:08 GMT+9\">4 days ago</time-ago>\n",
       " </div>\n",
       " </div>,\n",
       " <div class=\"Box-row Box-row--focus-gray py-2 d-flex position-relative js-navigation-item\" role=\"row\">\n",
       " <div class=\"mr-3 flex-shrink-0\" role=\"gridcell\" style=\"width: 16px;\">\n",
       " <svg aria-hidden=\"true\" aria-label=\"File\" class=\"octicon octicon-file color-icon-tertiary\" data-view-component=\"true\" height=\"16\" version=\"1.1\" viewbox=\"0 0 16 16\" width=\"16\">\n",
       " <path d=\"M3.75 1.5a.25.25 0 00-.25.25v11.5c0 .138.112.25.25.25h8.5a.25.25 0 00.25-.25V6H9.75A1.75 1.75 0 018 4.25V1.5H3.75zm5.75.56v2.19c0 .138.112.25.25.25h2.19L9.5 2.06zM2 1.75C2 .784 2.784 0 3.75 0h5.086c.464 0 .909.184 1.237.513l3.414 3.414c.329.328.513.773.513 1.237v8.086A1.75 1.75 0 0112.25 15h-8.5A1.75 1.75 0 012 13.25V1.75z\" fill-rule=\"evenodd\"></path>\n",
       " </svg>\n",
       " </div>\n",
       " <div class=\"flex-auto min-width-0 col-md-2 mr-3\" role=\"rowheader\">\n",
       " <span class=\"css-truncate css-truncate-target d-block width-fit\"><a class=\"js-navigation-open Link--primary\" data-pjax=\"#repo-content-pjax-container\" href=\"/creamcheesesteak/test_webscraping/blob/master/t_bs4_daum_economic01.ipynb\" title=\"t_bs4_daum_economic01.ipynb\">t_bs4_daum_economic01.ipynb</a></span>\n",
       " </div>\n",
       " <div class=\"flex-auto min-width-0 d-none d-md-block col-5 mr-3\" role=\"gridcell\">\n",
       " <span class=\"css-truncate css-truncate-target d-block width-fit markdown-title\">\n",
       " <a class=\"Link--secondary\" data-pjax=\"true\" href=\"/creamcheesesteak/test_webscraping/commit/624f99c9918fd84dde77583c53d21e8639f9ac15\" title=\"2021-6-21 last commit of this lecture with beautifuls\">2021-6-21 last commit of this lecture with beautifuls</a>\n",
       " </span>\n",
       " </div>\n",
       " <div class=\"color-text-tertiary text-right\" role=\"gridcell\" style=\"width:100px;\">\n",
       " <time-ago class=\"no-wrap\" data-view-component=\"true\" datetime=\"2021-06-24T09:01:05Z\" title=\"2021년 6월 24일 오후 6:01 GMT+9\">5 days ago</time-ago>\n",
       " </div>\n",
       " </div>,\n",
       " <div class=\"Box-row Box-row--focus-gray py-2 d-flex position-relative js-navigation-item\" role=\"row\">\n",
       " <div class=\"mr-3 flex-shrink-0\" role=\"gridcell\" style=\"width: 16px;\">\n",
       " <svg aria-hidden=\"true\" aria-label=\"File\" class=\"octicon octicon-file color-icon-tertiary\" data-view-component=\"true\" height=\"16\" version=\"1.1\" viewbox=\"0 0 16 16\" width=\"16\">\n",
       " <path d=\"M3.75 1.5a.25.25 0 00-.25.25v11.5c0 .138.112.25.25.25h8.5a.25.25 0 00.25-.25V6H9.75A1.75 1.75 0 018 4.25V1.5H3.75zm5.75.56v2.19c0 .138.112.25.25.25h2.19L9.5 2.06zM2 1.75C2 .784 2.784 0 3.75 0h5.086c.464 0 .909.184 1.237.513l3.414 3.414c.329.328.513.773.513 1.237v8.086A1.75 1.75 0 0112.25 15h-8.5A1.75 1.75 0 012 13.25V1.75z\" fill-rule=\"evenodd\"></path>\n",
       " </svg>\n",
       " </div>\n",
       " <div class=\"flex-auto min-width-0 col-md-2 mr-3\" role=\"rowheader\">\n",
       " <span class=\"css-truncate css-truncate-target d-block width-fit\"><a class=\"js-navigation-open Link--primary\" data-pjax=\"#repo-content-pjax-container\" href=\"/creamcheesesteak/test_webscraping/blob/master/youtuberank_selenium_practice.ipynb\" title=\"youtuberank_selenium_practice.ipynb\">youtuberank_selenium_practice.ipynb</a></span>\n",
       " </div>\n",
       " <div class=\"flex-auto min-width-0 d-none d-md-block col-5 mr-3\" role=\"gridcell\">\n",
       " <span class=\"css-truncate css-truncate-target d-block width-fit markdown-title\">\n",
       " <a class=\"Link--secondary\" data-pjax=\"true\" href=\"/creamcheesesteak/test_webscraping/commit/419e35b67692933542f25a43d6ebecd41063878f\" title=\"learn_selenium : practice1 _ continue_랙걸림 리로드\">learn_selenium : practice1 _ continue_랙걸림 리로드</a>\n",
       " </span>\n",
       " </div>\n",
       " <div class=\"color-text-tertiary text-right\" role=\"gridcell\" style=\"width:100px;\">\n",
       " <time-ago class=\"no-wrap\" data-view-component=\"true\" datetime=\"2021-06-25T07:30:00Z\" title=\"2021년 6월 25일 오후 4:30 GMT+9\">4 days ago</time-ago>\n",
       " </div>\n",
       " </div>,\n",
       " <div class=\"Box-row Box-row--focus-gray py-2 d-flex position-relative js-navigation-item\" role=\"row\">\n",
       " <div class=\"mr-3 flex-shrink-0\" role=\"gridcell\" style=\"width: 16px;\">\n",
       " <svg aria-hidden=\"true\" aria-label=\"File\" class=\"octicon octicon-file color-icon-tertiary\" data-view-component=\"true\" height=\"16\" version=\"1.1\" viewbox=\"0 0 16 16\" width=\"16\">\n",
       " <path d=\"M3.75 1.5a.25.25 0 00-.25.25v11.5c0 .138.112.25.25.25h8.5a.25.25 0 00.25-.25V6H9.75A1.75 1.75 0 018 4.25V1.5H3.75zm5.75.56v2.19c0 .138.112.25.25.25h2.19L9.5 2.06zM2 1.75C2 .784 2.784 0 3.75 0h5.086c.464 0 .909.184 1.237.513l3.414 3.414c.329.328.513.773.513 1.237v8.086A1.75 1.75 0 0112.25 15h-8.5A1.75 1.75 0 012 13.25V1.75z\" fill-rule=\"evenodd\"></path>\n",
       " </svg>\n",
       " </div>\n",
       " <div class=\"flex-auto min-width-0 col-md-2 mr-3\" role=\"rowheader\">\n",
       " <span class=\"css-truncate css-truncate-target d-block width-fit\"><a class=\"js-navigation-open Link--primary\" data-pjax=\"#repo-content-pjax-container\" href=\"/creamcheesesteak/test_webscraping/blob/master/youtuberankwithpage.ipynb\" title=\"youtuberankwithpage.ipynb\">youtuberankwithpage.ipynb</a></span>\n",
       " </div>\n",
       " <div class=\"flex-auto min-width-0 d-none d-md-block col-5 mr-3\" role=\"gridcell\">\n",
       " <span class=\"css-truncate css-truncate-target d-block width-fit markdown-title\">\n",
       " <a class=\"Link--secondary\" data-pjax=\"true\" href=\"/creamcheesesteak/test_webscraping/commit/0f019506dea5c511ab6ef4832179474e1a38967a\" title=\"learn_selenium : practice_complete\">learn_selenium : practice_complete</a>\n",
       " </span>\n",
       " </div>\n",
       " <div class=\"color-text-tertiary text-right\" role=\"gridcell\" style=\"width:100px;\">\n",
       " <time-ago class=\"no-wrap\" data-view-component=\"true\" datetime=\"2021-06-25T07:39:08Z\" title=\"2021년 6월 25일 오후 4:39 GMT+9\">4 days ago</time-ago>\n",
       " </div>\n",
       " </div>]"
      ]
     },
     "execution_count": 11,
     "metadata": {},
     "output_type": "execute_result"
    }
   ],
   "source": [
    "tags = html.select('div[role=\"row\"].Box-row')\n",
    "tags"
   ]
  },
  {
   "cell_type": "code",
   "execution_count": 12,
   "id": "81361ce3",
   "metadata": {},
   "outputs": [
    {
     "data": {
      "text/plain": [
       "(bs4.element.ResultSet, 24)"
      ]
     },
     "execution_count": 12,
     "metadata": {},
     "output_type": "execute_result"
    }
   ],
   "source": [
    "type(tags), len(tags)"
   ]
  },
  {
   "cell_type": "code",
   "execution_count": 13,
   "id": "038da1da",
   "metadata": {},
   "outputs": [
    {
     "data": {
      "text/plain": [
       "<div class=\"Box-row Box-row--focus-gray py-2 d-flex position-relative js-navigation-item\" role=\"row\">\n",
       "<div class=\"mr-3 flex-shrink-0\" role=\"gridcell\" style=\"width: 16px;\">\n",
       "<svg aria-hidden=\"true\" aria-label=\"Directory\" class=\"octicon octicon-file-directory hx_color-icon-directory\" data-view-component=\"true\" height=\"16\" version=\"1.1\" viewbox=\"0 0 16 16\" width=\"16\">\n",
       "<path d=\"M1.75 1A1.75 1.75 0 000 2.75v10.5C0 14.216.784 15 1.75 15h12.5A1.75 1.75 0 0016 13.25v-8.5A1.75 1.75 0 0014.25 3h-6.5a.25.25 0 01-.2-.1l-.9-1.2c-.33-.44-.85-.7-1.4-.7h-3.5z\" fill-rule=\"evenodd\"></path>\n",
       "</svg>\n",
       "</div>\n",
       "<div class=\"flex-auto min-width-0 col-md-2 mr-3\" role=\"rowheader\">\n",
       "<span class=\"css-truncate css-truncate-target d-block width-fit\"><a class=\"js-navigation-open Link--primary\" data-pjax=\"#repo-content-pjax-container\" href=\"/creamcheesesteak/test_webscraping/tree/master/.idea\" title=\".idea\">.idea</a></span>\n",
       "</div>\n",
       "<div class=\"flex-auto min-width-0 d-none d-md-block col-5 mr-3\" role=\"gridcell\">\n",
       "<span class=\"css-truncate css-truncate-target d-block width-fit markdown-title\">\n",
       "<a class=\"Link--secondary\" data-pjax=\"true\" href=\"/creamcheesesteak/test_webscraping/commit/624f99c9918fd84dde77583c53d21e8639f9ac15\" title=\"2021-6-21 last commit of this lecture with beautifuls\">2021-6-21 last commit of this lecture with beautifuls</a>\n",
       "</span>\n",
       "</div>\n",
       "<div class=\"color-text-tertiary text-right\" role=\"gridcell\" style=\"width:100px;\">\n",
       "<time-ago class=\"no-wrap\" data-view-component=\"true\" datetime=\"2021-06-24T09:01:05Z\" title=\"2021년 6월 24일 오후 6:01 GMT+9\">5 days ago</time-ago>\n",
       "</div>\n",
       "</div>"
      ]
     },
     "execution_count": 13,
     "metadata": {},
     "output_type": "execute_result"
    }
   ],
   "source": [
    "tags[0]"
   ]
  },
  {
   "cell_type": "code",
   "execution_count": 14,
   "id": "8ed052ed",
   "metadata": {},
   "outputs": [],
   "source": [
    "tag = tags[0]"
   ]
  },
  {
   "cell_type": "code",
   "execution_count": 20,
   "id": "72daff7f",
   "metadata": {},
   "outputs": [
    {
     "data": {
      "text/plain": [
       "<a class=\"js-navigation-open Link--primary\" data-pjax=\"#repo-content-pjax-container\" href=\"/creamcheesesteak/test_webscraping/tree/master/.idea\" title=\".idea\">.idea</a>"
      ]
     },
     "execution_count": 20,
     "metadata": {},
     "output_type": "execute_result"
    }
   ],
   "source": [
    "tag.select('span.css-truncate > a.js-navigation-open')[0]"
   ]
  },
  {
   "cell_type": "code",
   "execution_count": 24,
   "id": "f7b4bcfb",
   "metadata": {},
   "outputs": [
    {
     "data": {
      "text/plain": [
       "'.idea'"
      ]
     },
     "execution_count": 24,
     "metadata": {},
     "output_type": "execute_result"
    }
   ],
   "source": [
    "name = tag.select('span.css-truncate > a.js-navigation-open')[0]\n",
    "name.text.strip()"
   ]
  },
  {
   "cell_type": "code",
   "execution_count": 25,
   "id": "6930e634",
   "metadata": {},
   "outputs": [
    {
     "data": {
      "text/plain": [
       "<a class=\"Link--secondary\" data-pjax=\"true\" href=\"/creamcheesesteak/test_webscraping/commit/624f99c9918fd84dde77583c53d21e8639f9ac15\" title=\"2021-6-21 last commit of this lecture with beautifuls\">2021-6-21 last commit of this lecture with beautifuls</a>"
      ]
     },
     "execution_count": 25,
     "metadata": {},
     "output_type": "execute_result"
    }
   ],
   "source": [
    "tag.select('span.css-truncate > a.Link--secondary')[0]"
   ]
  },
  {
   "cell_type": "code",
   "execution_count": 28,
   "id": "f5dbffff",
   "metadata": {},
   "outputs": [
    {
     "data": {
      "text/plain": [
       "'2021-6-21 last commit of this lecture with beautifuls'"
      ]
     },
     "execution_count": 28,
     "metadata": {},
     "output_type": "execute_result"
    }
   ],
   "source": [
    "desc = tag.select('span.css-truncate > a.Link--secondary')[0]\n",
    "desc.text.strip()"
   ]
  },
  {
   "cell_type": "code",
   "execution_count": 29,
   "id": "42613d05",
   "metadata": {},
   "outputs": [
    {
     "data": {
      "text/plain": [
       "<time-ago class=\"no-wrap\" data-view-component=\"true\" datetime=\"2021-06-24T09:01:05Z\" title=\"2021년 6월 24일 오후 6:01 GMT+9\">5 days ago</time-ago>"
      ]
     },
     "execution_count": 29,
     "metadata": {},
     "output_type": "execute_result"
    }
   ],
   "source": [
    "tag.select('time-ago.no-wrap')[0]"
   ]
  },
  {
   "cell_type": "code",
   "execution_count": 33,
   "id": "4bf8a930",
   "metadata": {},
   "outputs": [
    {
     "data": {
      "text/plain": [
       "'5 days ago'"
      ]
     },
     "execution_count": 33,
     "metadata": {},
     "output_type": "execute_result"
    }
   ],
   "source": [
    "time = tag.select('time-ago.no-wrap')[0]\n",
    "time.text.strip()"
   ]
  },
  {
   "cell_type": "code",
   "execution_count": 36,
   "id": "25c812da",
   "metadata": {},
   "outputs": [
    {
     "data": {
      "text/plain": [
       "<a class=\"Link--secondary\" data-pjax=\"true\" href=\"/creamcheesesteak/test_webscraping/commit/624f99c9918fd84dde77583c53d21e8639f9ac15\" title=\"2021-6-21 last commit of this lecture with beautifuls\">2021-6-21 last commit of this lecture with beautifuls</a>"
      ]
     },
     "execution_count": 36,
     "metadata": {},
     "output_type": "execute_result"
    }
   ],
   "source": [
    "tag.select('span.css-truncate > a.Link--secondary')[0]"
   ]
  },
  {
   "cell_type": "code",
   "execution_count": 37,
   "id": "1a600acb",
   "metadata": {},
   "outputs": [],
   "source": [
    "data = tag.select('span.css-truncate > a.Link--secondary')[0]"
   ]
  },
  {
   "cell_type": "code",
   "execution_count": 40,
   "id": "9a47dcab",
   "metadata": {},
   "outputs": [
    {
     "ename": "NameError",
     "evalue": "name 'href' is not defined",
     "output_type": "error",
     "traceback": [
      "\u001b[1;31m---------------------------------------------------------------------------\u001b[0m",
      "\u001b[1;31mNameError\u001b[0m                                 Traceback (most recent call last)",
      "\u001b[1;32m<ipython-input-40-a406d767c0c3>\u001b[0m in \u001b[0;36m<module>\u001b[1;34m\u001b[0m\n\u001b[1;32m----> 1\u001b[1;33m \u001b[0mdata\u001b[0m\u001b[1;33m.\u001b[0m\u001b[0mselect\u001b[0m\u001b[1;33m(\u001b[0m\u001b[0mhref\u001b[0m\u001b[1;33m)\u001b[0m\u001b[1;33m\u001b[0m\u001b[0m\n\u001b[0m",
      "\u001b[1;31mNameError\u001b[0m: name 'href' is not defined"
     ]
    }
   ],
   "source": [
    "data.select(href)"
   ]
  },
  {
   "cell_type": "code",
   "execution_count": null,
   "id": "14329071",
   "metadata": {},
   "outputs": [],
   "source": []
  },
  {
   "cell_type": "code",
   "execution_count": null,
   "id": "23ddbac9",
   "metadata": {},
   "outputs": [],
   "source": []
  },
  {
   "cell_type": "code",
   "execution_count": 43,
   "id": "4a8e5777",
   "metadata": {},
   "outputs": [
    {
     "name": "stdout",
     "output_type": "stream",
     "text": [
      ".idea 2021-6-21 last commit of this lecture with beautifuls 5 days ago\n",
      "files 2021-6-21 last commit of this lecture with beautifuls 5 days ago\n",
      "saves learn_selenium : practice_complete 4 days ago\n",
      ".gitignore Initial commit 5 days ago\n",
      "LICENSE Initial commit 5 days ago\n",
      "README.md Initial commit 5 days ago\n",
      "Untitled.ipynb 2021-6-21 last commit of this lecture with beautifuls 5 days ago\n",
      "Untitled1.ipynb 2021-6-21 last commit of this lecture with beautifuls 5 days ago\n",
      "beautifulsoup_htmlload.ipynb searching practice with beautifuls 5 days ago\n",
      "bs_tags.ipynb 2021-6-21 last commit of this lecture with beautifuls 5 days ago\n",
      "chromedriver.exe learn_selenium 4 days ago\n",
      "genie_scraping.ipynb learn_selenium : end of morning class 4 days ago\n",
      "github_selenium1.ipynb learn_selenium : 2021.6.25 LAST END 4 days ago\n",
      "interpark_selenium_practice.ipynb learn_selenium : practice1 _ continue 4 days ago\n",
      "melon-scraping.ipynb learn_selenium : end of morning class 4 days ago\n",
      "new01.txt first commit 5 days ago\n",
      "new02.txt first commit 5 days ago\n",
      "scraping_bs4_Daum.ipynb 2021-6-21 last commit of this lecture with beautifuls 5 days ago\n",
      "scraping_bs4_Daum2.ipynb 2021-6-21 last commit of this lecture with beautifuls 5 days ago\n",
      "selenium_load.ipynb learn_selenium 4 days ago\n",
      "starbucks_location1.ipynb learn_selenium : 2021.6.25 LAST END 4 days ago\n",
      "t_bs4_daum_economic01.ipynb 2021-6-21 last commit of this lecture with beautifuls 5 days ago\n",
      "youtuberank_selenium_practice.ipynb learn_selenium : practice1 _ continue_랙걸림 리로드 4 days ago\n",
      "youtuberankwithpage.ipynb learn_selenium : practice_complete 4 days ago\n"
     ]
    }
   ],
   "source": [
    "datalist = [] # or list()\n",
    "for tag in tags:\n",
    "    name = tag.select('span.css-truncate > a.js-navigation-open')[0]\n",
    "    desc = tag.select('span.css-truncate > a.Link--secondary')[0]\n",
    "    time = tag.select('time-ago.no-wrap')[0]\n",
    "    print(name.text.strip(), desc.text.strip(), time.text.strip())\n",
    "    datalist.append([name.text.strip(), desc.text.strip(), time.text.strip()])"
   ]
  },
  {
   "cell_type": "code",
   "execution_count": 44,
   "id": "ba2c0810",
   "metadata": {},
   "outputs": [],
   "source": [
    "import pandas as pd"
   ]
  },
  {
   "cell_type": "code",
   "execution_count": 45,
   "id": "70d5ed5e",
   "metadata": {},
   "outputs": [
    {
     "data": {
      "text/html": [
       "<div>\n",
       "<style scoped>\n",
       "    .dataframe tbody tr th:only-of-type {\n",
       "        vertical-align: middle;\n",
       "    }\n",
       "\n",
       "    .dataframe tbody tr th {\n",
       "        vertical-align: top;\n",
       "    }\n",
       "\n",
       "    .dataframe thead th {\n",
       "        text-align: right;\n",
       "    }\n",
       "</style>\n",
       "<table border=\"1\" class=\"dataframe\">\n",
       "  <thead>\n",
       "    <tr style=\"text-align: right;\">\n",
       "      <th></th>\n",
       "      <th>0</th>\n",
       "      <th>1</th>\n",
       "      <th>2</th>\n",
       "    </tr>\n",
       "  </thead>\n",
       "  <tbody>\n",
       "    <tr>\n",
       "      <th>0</th>\n",
       "      <td>.idea</td>\n",
       "      <td>2021-6-21 last commit of this lecture with bea...</td>\n",
       "      <td>5 days ago</td>\n",
       "    </tr>\n",
       "    <tr>\n",
       "      <th>1</th>\n",
       "      <td>files</td>\n",
       "      <td>2021-6-21 last commit of this lecture with bea...</td>\n",
       "      <td>5 days ago</td>\n",
       "    </tr>\n",
       "    <tr>\n",
       "      <th>2</th>\n",
       "      <td>saves</td>\n",
       "      <td>learn_selenium : practice_complete</td>\n",
       "      <td>4 days ago</td>\n",
       "    </tr>\n",
       "    <tr>\n",
       "      <th>3</th>\n",
       "      <td>.gitignore</td>\n",
       "      <td>Initial commit</td>\n",
       "      <td>5 days ago</td>\n",
       "    </tr>\n",
       "    <tr>\n",
       "      <th>4</th>\n",
       "      <td>LICENSE</td>\n",
       "      <td>Initial commit</td>\n",
       "      <td>5 days ago</td>\n",
       "    </tr>\n",
       "    <tr>\n",
       "      <th>5</th>\n",
       "      <td>README.md</td>\n",
       "      <td>Initial commit</td>\n",
       "      <td>5 days ago</td>\n",
       "    </tr>\n",
       "    <tr>\n",
       "      <th>6</th>\n",
       "      <td>Untitled.ipynb</td>\n",
       "      <td>2021-6-21 last commit of this lecture with bea...</td>\n",
       "      <td>5 days ago</td>\n",
       "    </tr>\n",
       "    <tr>\n",
       "      <th>7</th>\n",
       "      <td>Untitled1.ipynb</td>\n",
       "      <td>2021-6-21 last commit of this lecture with bea...</td>\n",
       "      <td>5 days ago</td>\n",
       "    </tr>\n",
       "    <tr>\n",
       "      <th>8</th>\n",
       "      <td>beautifulsoup_htmlload.ipynb</td>\n",
       "      <td>searching practice with beautifuls</td>\n",
       "      <td>5 days ago</td>\n",
       "    </tr>\n",
       "    <tr>\n",
       "      <th>9</th>\n",
       "      <td>bs_tags.ipynb</td>\n",
       "      <td>2021-6-21 last commit of this lecture with bea...</td>\n",
       "      <td>5 days ago</td>\n",
       "    </tr>\n",
       "    <tr>\n",
       "      <th>10</th>\n",
       "      <td>chromedriver.exe</td>\n",
       "      <td>learn_selenium</td>\n",
       "      <td>4 days ago</td>\n",
       "    </tr>\n",
       "    <tr>\n",
       "      <th>11</th>\n",
       "      <td>genie_scraping.ipynb</td>\n",
       "      <td>learn_selenium : end of morning class</td>\n",
       "      <td>4 days ago</td>\n",
       "    </tr>\n",
       "    <tr>\n",
       "      <th>12</th>\n",
       "      <td>github_selenium1.ipynb</td>\n",
       "      <td>learn_selenium : 2021.6.25 LAST END</td>\n",
       "      <td>4 days ago</td>\n",
       "    </tr>\n",
       "    <tr>\n",
       "      <th>13</th>\n",
       "      <td>interpark_selenium_practice.ipynb</td>\n",
       "      <td>learn_selenium : practice1 _ continue</td>\n",
       "      <td>4 days ago</td>\n",
       "    </tr>\n",
       "    <tr>\n",
       "      <th>14</th>\n",
       "      <td>melon-scraping.ipynb</td>\n",
       "      <td>learn_selenium : end of morning class</td>\n",
       "      <td>4 days ago</td>\n",
       "    </tr>\n",
       "    <tr>\n",
       "      <th>15</th>\n",
       "      <td>new01.txt</td>\n",
       "      <td>first commit</td>\n",
       "      <td>5 days ago</td>\n",
       "    </tr>\n",
       "    <tr>\n",
       "      <th>16</th>\n",
       "      <td>new02.txt</td>\n",
       "      <td>first commit</td>\n",
       "      <td>5 days ago</td>\n",
       "    </tr>\n",
       "    <tr>\n",
       "      <th>17</th>\n",
       "      <td>scraping_bs4_Daum.ipynb</td>\n",
       "      <td>2021-6-21 last commit of this lecture with bea...</td>\n",
       "      <td>5 days ago</td>\n",
       "    </tr>\n",
       "    <tr>\n",
       "      <th>18</th>\n",
       "      <td>scraping_bs4_Daum2.ipynb</td>\n",
       "      <td>2021-6-21 last commit of this lecture with bea...</td>\n",
       "      <td>5 days ago</td>\n",
       "    </tr>\n",
       "    <tr>\n",
       "      <th>19</th>\n",
       "      <td>selenium_load.ipynb</td>\n",
       "      <td>learn_selenium</td>\n",
       "      <td>4 days ago</td>\n",
       "    </tr>\n",
       "    <tr>\n",
       "      <th>20</th>\n",
       "      <td>starbucks_location1.ipynb</td>\n",
       "      <td>learn_selenium : 2021.6.25 LAST END</td>\n",
       "      <td>4 days ago</td>\n",
       "    </tr>\n",
       "    <tr>\n",
       "      <th>21</th>\n",
       "      <td>t_bs4_daum_economic01.ipynb</td>\n",
       "      <td>2021-6-21 last commit of this lecture with bea...</td>\n",
       "      <td>5 days ago</td>\n",
       "    </tr>\n",
       "    <tr>\n",
       "      <th>22</th>\n",
       "      <td>youtuberank_selenium_practice.ipynb</td>\n",
       "      <td>learn_selenium : practice1 _ continue_랙걸림 리로드</td>\n",
       "      <td>4 days ago</td>\n",
       "    </tr>\n",
       "    <tr>\n",
       "      <th>23</th>\n",
       "      <td>youtuberankwithpage.ipynb</td>\n",
       "      <td>learn_selenium : practice_complete</td>\n",
       "      <td>4 days ago</td>\n",
       "    </tr>\n",
       "  </tbody>\n",
       "</table>\n",
       "</div>"
      ],
      "text/plain": [
       "                                      0  \\\n",
       "0                                 .idea   \n",
       "1                                 files   \n",
       "2                                 saves   \n",
       "3                            .gitignore   \n",
       "4                               LICENSE   \n",
       "5                             README.md   \n",
       "6                        Untitled.ipynb   \n",
       "7                       Untitled1.ipynb   \n",
       "8          beautifulsoup_htmlload.ipynb   \n",
       "9                         bs_tags.ipynb   \n",
       "10                     chromedriver.exe   \n",
       "11                 genie_scraping.ipynb   \n",
       "12               github_selenium1.ipynb   \n",
       "13    interpark_selenium_practice.ipynb   \n",
       "14                 melon-scraping.ipynb   \n",
       "15                            new01.txt   \n",
       "16                            new02.txt   \n",
       "17              scraping_bs4_Daum.ipynb   \n",
       "18             scraping_bs4_Daum2.ipynb   \n",
       "19                  selenium_load.ipynb   \n",
       "20            starbucks_location1.ipynb   \n",
       "21          t_bs4_daum_economic01.ipynb   \n",
       "22  youtuberank_selenium_practice.ipynb   \n",
       "23            youtuberankwithpage.ipynb   \n",
       "\n",
       "                                                    1           2  \n",
       "0   2021-6-21 last commit of this lecture with bea...  5 days ago  \n",
       "1   2021-6-21 last commit of this lecture with bea...  5 days ago  \n",
       "2                  learn_selenium : practice_complete  4 days ago  \n",
       "3                                      Initial commit  5 days ago  \n",
       "4                                      Initial commit  5 days ago  \n",
       "5                                      Initial commit  5 days ago  \n",
       "6   2021-6-21 last commit of this lecture with bea...  5 days ago  \n",
       "7   2021-6-21 last commit of this lecture with bea...  5 days ago  \n",
       "8                  searching practice with beautifuls  5 days ago  \n",
       "9   2021-6-21 last commit of this lecture with bea...  5 days ago  \n",
       "10                                     learn_selenium  4 days ago  \n",
       "11              learn_selenium : end of morning class  4 days ago  \n",
       "12                learn_selenium : 2021.6.25 LAST END  4 days ago  \n",
       "13              learn_selenium : practice1 _ continue  4 days ago  \n",
       "14              learn_selenium : end of morning class  4 days ago  \n",
       "15                                       first commit  5 days ago  \n",
       "16                                       first commit  5 days ago  \n",
       "17  2021-6-21 last commit of this lecture with bea...  5 days ago  \n",
       "18  2021-6-21 last commit of this lecture with bea...  5 days ago  \n",
       "19                                     learn_selenium  4 days ago  \n",
       "20                learn_selenium : 2021.6.25 LAST END  4 days ago  \n",
       "21  2021-6-21 last commit of this lecture with bea...  5 days ago  \n",
       "22      learn_selenium : practice1 _ continue_랙걸림 리로드  4 days ago  \n",
       "23                 learn_selenium : practice_complete  4 days ago  "
      ]
     },
     "execution_count": 45,
     "metadata": {},
     "output_type": "execute_result"
    }
   ],
   "source": [
    "pd.DataFrame(datalist)"
   ]
  },
  {
   "cell_type": "code",
   "execution_count": 46,
   "id": "33b48b54",
   "metadata": {},
   "outputs": [],
   "source": [
    "pd_data = pd.DataFrame(datalist)"
   ]
  },
  {
   "cell_type": "code",
   "execution_count": 49,
   "id": "3bec7d83",
   "metadata": {},
   "outputs": [],
   "source": [
    "pd_data.to_excel('./saves/github_scraping.xls', index=False)"
   ]
  },
  {
   "cell_type": "code",
   "execution_count": null,
   "id": "67047657",
   "metadata": {},
   "outputs": [],
   "source": []
  },
  {
   "cell_type": "code",
   "execution_count": null,
   "id": "409908a6",
   "metadata": {},
   "outputs": [],
   "source": []
  },
  {
   "cell_type": "code",
   "execution_count": null,
   "id": "fb32e7f0",
   "metadata": {},
   "outputs": [],
   "source": []
  },
  {
   "cell_type": "code",
   "execution_count": null,
   "id": "f5b65d57",
   "metadata": {},
   "outputs": [],
   "source": []
  },
  {
   "cell_type": "code",
   "execution_count": null,
   "id": "54b1e365",
   "metadata": {},
   "outputs": [],
   "source": []
  }
 ],
 "metadata": {
  "kernelspec": {
   "display_name": "Python 3",
   "language": "python",
   "name": "python3"
  },
  "language_info": {
   "codemirror_mode": {
    "name": "ipython",
    "version": 3
   },
   "file_extension": ".py",
   "mimetype": "text/x-python",
   "name": "python",
   "nbconvert_exporter": "python",
   "pygments_lexer": "ipython3",
   "version": "3.6.4"
  }
 },
 "nbformat": 4,
 "nbformat_minor": 5
}
