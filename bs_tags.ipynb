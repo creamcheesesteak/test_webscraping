{
 "cells": [
  {
   "cell_type": "code",
   "execution_count": 1,
   "id": "6df42b0c",
   "metadata": {},
   "outputs": [],
   "source": [
    "from bs4 import BeautifulSoup"
   ]
  },
  {
   "cell_type": "code",
   "execution_count": 2,
   "id": "8375c3e1",
   "metadata": {},
   "outputs": [],
   "source": [
    "html = '''\n",
    "<html>\n",
    "    <head>\n",
    "    </head>\n",
    "    <body>\n",
    "        <h1> 우리동네시장</h1>\n",
    "            <div class = 'sale'>\n",
    "                <p id='fruits1' class='fruits'>\n",
    "                    <span class = 'name'> 바나나 </span>\n",
    "                    <span class = 'price'> 3000원 </span>\n",
    "                    <span class = 'inventory'> 500개 </span>\n",
    "                    <span class = 'store'> 가나다상회 </span>\n",
    "                    <a href = 'http://bit.ly/forPlaywithData' > 홈페이지 </a>\n",
    "                </p>\n",
    "            </div>\n",
    "            <div class = 'prepare'>\n",
    "                <p id='fruits2' class='fruits'>\n",
    "                    <span class ='name'> 파인애플 </span>\n",
    "                </p>\n",
    "            </div>\n",
    "    </body>\n",
    "</html>\n",
    "'''\n"
   ]
  },
  {
   "cell_type": "code",
   "execution_count": 3,
   "id": "421137d2",
   "metadata": {},
   "outputs": [],
   "source": [
    "soup = BeautifulSoup(html, 'html.parser')"
   ]
  },
  {
   "cell_type": "code",
   "execution_count": 6,
   "id": "3baa877e",
   "metadata": {},
   "outputs": [],
   "source": [
    "span = soup.select('span')"
   ]
  },
  {
   "cell_type": "code",
   "execution_count": 7,
   "id": "71cdad52",
   "metadata": {},
   "outputs": [
    {
     "data": {
      "text/plain": [
       "(bs4.element.ResultSet,\n",
       " [<span class=\"name\"> 바나나 </span>,\n",
       "  <span class=\"price\"> 3000원 </span>,\n",
       "  <span class=\"inventory\"> 500개 </span>,\n",
       "  <span class=\"store\"> 가나다상회 </span>,\n",
       "  <span class=\"name\"> 파인애플 </span>])"
      ]
     },
     "execution_count": 7,
     "metadata": {},
     "output_type": "execute_result"
    }
   ],
   "source": [
    "type(span), span"
   ]
  },
  {
   "cell_type": "code",
   "execution_count": 8,
   "id": "62998894",
   "metadata": {},
   "outputs": [
    {
     "data": {
      "text/plain": [
       "<span class=\"name\"> 바나나 </span>"
      ]
     },
     "execution_count": 8,
     "metadata": {},
     "output_type": "execute_result"
    }
   ],
   "source": [
    "span[0]"
   ]
  },
  {
   "cell_type": "code",
   "execution_count": 13,
   "id": "8327dbce",
   "metadata": {},
   "outputs": [],
   "source": [
    "fruits = soup.select('#fruits1')"
   ]
  },
  {
   "cell_type": "code",
   "execution_count": 14,
   "id": "504ea098",
   "metadata": {},
   "outputs": [
    {
     "data": {
      "text/plain": [
       "(bs4.element.ResultSet,\n",
       " [<p class=\"fruits\" id=\"fruits1\">\n",
       "  <span class=\"name\"> 바나나 </span>\n",
       "  <span class=\"price\"> 3000원 </span>\n",
       "  <span class=\"inventory\"> 500개 </span>\n",
       "  <span class=\"store\"> 가나다상회 </span>\n",
       "  <a href=\"http://bit.ly/forPlaywithData\"> 홈페이지 </a>\n",
       "  </p>])"
      ]
     },
     "execution_count": 14,
     "metadata": {},
     "output_type": "execute_result"
    }
   ],
   "source": [
    "type(fruits), fruits"
   ]
  },
  {
   "cell_type": "code",
   "execution_count": 15,
   "id": "51aed069",
   "metadata": {},
   "outputs": [
    {
     "data": {
      "text/plain": [
       "1"
      ]
     },
     "execution_count": 15,
     "metadata": {},
     "output_type": "execute_result"
    }
   ],
   "source": [
    "len(fruits)"
   ]
  },
  {
   "cell_type": "code",
   "execution_count": 16,
   "id": "5ebab430",
   "metadata": {},
   "outputs": [],
   "source": [
    "inventory = soup.select('.inventory')"
   ]
  },
  {
   "cell_type": "code",
   "execution_count": 17,
   "id": "a7283a5d",
   "metadata": {},
   "outputs": [
    {
     "data": {
      "text/plain": [
       "(bs4.element.ResultSet, [<span class=\"inventory\"> 500개 </span>])"
      ]
     },
     "execution_count": 17,
     "metadata": {},
     "output_type": "execute_result"
    }
   ],
   "source": [
    "type(inventory), inventory"
   ]
  },
  {
   "cell_type": "code",
   "execution_count": 18,
   "id": "cc5b1e58",
   "metadata": {},
   "outputs": [],
   "source": [
    "price = soup.select('span.price')"
   ]
  },
  {
   "cell_type": "code",
   "execution_count": 19,
   "id": "0803f306",
   "metadata": {},
   "outputs": [
    {
     "data": {
      "text/plain": [
       "(bs4.element.ResultSet, [<span class=\"price\"> 3000원 </span>])"
      ]
     },
     "execution_count": 19,
     "metadata": {},
     "output_type": "execute_result"
    }
   ],
   "source": [
    "type(price), price"
   ]
  },
  {
   "cell_type": "code",
   "execution_count": 20,
   "id": "c8be1ccf",
   "metadata": {},
   "outputs": [],
   "source": [
    "name2 = soup.select('div.sale > p > .name')"
   ]
  },
  {
   "cell_type": "code",
   "execution_count": 21,
   "id": "b531025e",
   "metadata": {},
   "outputs": [
    {
     "data": {
      "text/plain": [
       "(bs4.element.ResultSet, [<span class=\"name\"> 바나나 </span>])"
      ]
     },
     "execution_count": 21,
     "metadata": {},
     "output_type": "execute_result"
    }
   ],
   "source": [
    "type(name2), name2"
   ]
  },
  {
   "cell_type": "code",
   "execution_count": 23,
   "id": "0ab392f4",
   "metadata": {},
   "outputs": [],
   "source": [
    "name1 = soup.select('p#fruits1 > span.name')"
   ]
  },
  {
   "cell_type": "code",
   "execution_count": 24,
   "id": "5946d67d",
   "metadata": {},
   "outputs": [
    {
     "data": {
      "text/plain": [
       "(bs4.element.ResultSet, [<span class=\"name\"> 바나나 </span>])"
      ]
     },
     "execution_count": 24,
     "metadata": {},
     "output_type": "execute_result"
    }
   ],
   "source": [
    "type(name1), name1"
   ]
  },
  {
   "cell_type": "code",
   "execution_count": 25,
   "id": "b7ea676a",
   "metadata": {},
   "outputs": [],
   "source": [
    "name = soup.select('.name')"
   ]
  },
  {
   "cell_type": "code",
   "execution_count": 26,
   "id": "3193d1e4",
   "metadata": {},
   "outputs": [
    {
     "data": {
      "text/plain": [
       "(bs4.element.ResultSet,\n",
       " [<span class=\"name\"> 바나나 </span>, <span class=\"name\"> 파인애플 </span>])"
      ]
     },
     "execution_count": 26,
     "metadata": {},
     "output_type": "execute_result"
    }
   ],
   "source": [
    "type(name), name"
   ]
  },
  {
   "cell_type": "code",
   "execution_count": 27,
   "id": "db400f47",
   "metadata": {},
   "outputs": [],
   "source": [
    "result = soup.select('.name')"
   ]
  },
  {
   "cell_type": "code",
   "execution_count": 28,
   "id": "a2af85c2",
   "metadata": {},
   "outputs": [
    {
     "name": "stdout",
     "output_type": "stream",
     "text": [
      "<span class=\"name\"> 바나나 </span>\n",
      "<span class=\"name\"> 파인애플 </span>\n"
     ]
    }
   ],
   "source": [
    "# len(result)\n",
    "for tag in result:\n",
    "    print(tag)"
   ]
  },
  {
   "cell_type": "code",
   "execution_count": 29,
   "id": "99a1de6a",
   "metadata": {},
   "outputs": [
    {
     "data": {
      "text/plain": [
       "<span class=\"name\"> 바나나 </span>"
      ]
     },
     "execution_count": 29,
     "metadata": {},
     "output_type": "execute_result"
    }
   ],
   "source": [
    "result[0]"
   ]
  },
  {
   "cell_type": "code",
   "execution_count": 30,
   "id": "89416e79",
   "metadata": {},
   "outputs": [
    {
     "data": {
      "text/plain": [
       "' 바나나 '"
      ]
     },
     "execution_count": 30,
     "metadata": {},
     "output_type": "execute_result"
    }
   ],
   "source": [
    "result[0].text"
   ]
  },
  {
   "cell_type": "code",
   "execution_count": 32,
   "id": "d9b98341",
   "metadata": {},
   "outputs": [],
   "source": [
    "s = result[0].text"
   ]
  },
  {
   "cell_type": "code",
   "execution_count": 33,
   "id": "0d167f7f",
   "metadata": {},
   "outputs": [
    {
     "data": {
      "text/plain": [
       "'바나나'"
      ]
     },
     "execution_count": 33,
     "metadata": {},
     "output_type": "execute_result"
    }
   ],
   "source": [
    "s.strip()"
   ]
  },
  {
   "cell_type": "code",
   "execution_count": 34,
   "id": "483cff8d",
   "metadata": {},
   "outputs": [
    {
     "data": {
      "text/plain": [
       "'바나나'"
      ]
     },
     "execution_count": 34,
     "metadata": {},
     "output_type": "execute_result"
    }
   ],
   "source": [
    "result[0].text.strip()"
   ]
  },
  {
   "cell_type": "code",
   "execution_count": 37,
   "id": "0be52909",
   "metadata": {},
   "outputs": [
    {
     "data": {
      "text/plain": [
       "['name']"
      ]
     },
     "execution_count": 37,
     "metadata": {},
     "output_type": "execute_result"
    }
   ],
   "source": [
    "result[0]['class']"
   ]
  },
  {
   "cell_type": "code",
   "execution_count": 41,
   "id": "46617e39",
   "metadata": {},
   "outputs": [
    {
     "data": {
      "text/plain": [
       "'name'"
      ]
     },
     "execution_count": 41,
     "metadata": {},
     "output_type": "execute_result"
    }
   ],
   "source": [
    "result[0]['class'][0]"
   ]
  },
  {
   "cell_type": "code",
   "execution_count": 42,
   "id": "35c96848",
   "metadata": {},
   "outputs": [
    {
     "data": {
      "text/plain": [
       "str"
      ]
     },
     "execution_count": 42,
     "metadata": {},
     "output_type": "execute_result"
    }
   ],
   "source": [
    "type(result[0]['class'][0])"
   ]
  },
  {
   "cell_type": "code",
   "execution_count": 38,
   "id": "509d3aed",
   "metadata": {},
   "outputs": [
    {
     "data": {
      "text/plain": [
       "list"
      ]
     },
     "execution_count": 38,
     "metadata": {},
     "output_type": "execute_result"
    }
   ],
   "source": [
    "type(result[0]['class'])"
   ]
  },
  {
   "cell_type": "code",
   "execution_count": 40,
   "id": "2ad78800",
   "metadata": {},
   "outputs": [
    {
     "data": {
      "text/plain": [
       "str"
      ]
     },
     "execution_count": 40,
     "metadata": {},
     "output_type": "execute_result"
    }
   ],
   "source": [
    "cls = result[0]['class']\n",
    "cls[0]\n",
    "type(cls[0])"
   ]
  },
  {
   "cell_type": "code",
   "execution_count": 35,
   "id": "f7146102",
   "metadata": {},
   "outputs": [
    {
     "name": "stdout",
     "output_type": "stream",
     "text": [
      "<span class=\"name\"> 바나나 </span>\n",
      "<span class=\"name\"> 파인애플 </span>\n"
     ]
    }
   ],
   "source": [
    "# len(result)\n",
    "for tag in result:\n",
    "    print(tag)"
   ]
  },
  {
   "cell_type": "code",
   "execution_count": 36,
   "id": "be5817a3",
   "metadata": {},
   "outputs": [
    {
     "name": "stdout",
     "output_type": "stream",
     "text": [
      "바나나\n",
      "파인애플\n"
     ]
    }
   ],
   "source": [
    "# len(result)\n",
    "for tag in result:\n",
    "    print(tag.text.strip())"
   ]
  },
  {
   "cell_type": "code",
   "execution_count": 43,
   "id": "f7cc33cc",
   "metadata": {},
   "outputs": [
    {
     "name": "stdout",
     "output_type": "stream",
     "text": [
      "바나나 name\n",
      "파인애플 name\n"
     ]
    }
   ],
   "source": [
    "# len(result)\n",
    "for tag in result:\n",
    "    print(tag.text.strip(), tag['class'][0])"
   ]
  },
  {
   "cell_type": "code",
   "execution_count": null,
   "id": "59c75889",
   "metadata": {},
   "outputs": [],
   "source": []
  }
 ],
 "metadata": {
  "kernelspec": {
   "display_name": "Python 3",
   "language": "python",
   "name": "python3"
  },
  "language_info": {
   "codemirror_mode": {
    "name": "ipython",
    "version": 3
   },
   "file_extension": ".py",
   "mimetype": "text/x-python",
   "name": "python",
   "nbconvert_exporter": "python",
   "pygments_lexer": "ipython3",
   "version": "3.6.4"
  }
 },
 "nbformat": 4,
 "nbformat_minor": 5
}
